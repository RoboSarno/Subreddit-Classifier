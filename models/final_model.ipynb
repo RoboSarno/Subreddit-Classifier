{
  "cells": [
    {
      "cell_type": "markdown",
      "metadata": {
        "id": "kfZWn4cZMIgx"
      },
      "source": [
        "# Final Model:\n",
        "1) fill in missing in text body with empty strings \n",
        "2) column transformer for countvector maybe on title and text body \n",
        "2) Bagging classify the column tranformer to find important features \n",
        "3) pipeline\n",
        "\n",
        "- XGBClass or Ada\n",
        "- Bagging\n",
        "- Random Forest\n",
        "- ExtraTree"
      ]
    },
    {
      "cell_type": "markdown",
      "metadata": {
        "id": "9y4MjXgFMIgy"
      },
      "source": [
        "## Import Libraries"
      ]
    },
    {
      "cell_type": "code",
      "execution_count": 5,
      "metadata": {
        "colab": {
          "base_uri": "https://localhost:8080/"
        },
        "id": "e1N_vnbYMIgz",
        "outputId": "8c098484-8145-49ab-dd2c-c797bf11e5bb"
      },
      "outputs": [
        {
          "name": "stdout",
          "output_type": "stream",
          "text": [
            "[nltk_data] Downloading package stopwords to /root/nltk_data...\n",
            "[nltk_data]   Unzipping corpora/stopwords.zip.\n"
          ]
        },
        {
          "data": {
            "text/plain": [
              "True"
            ]
          },
          "execution_count": 5,
          "metadata": {},
          "output_type": "execute_result"
        }
      ],
      "source": [
        "import nltk\n",
        "from nltk.corpus import stopwords\n",
        "import numpy as np\n",
        "import pandas as pd\n",
        "from sklearn.compose import ColumnTransformer\n",
        "from sklearn.ensemble import RandomForestClassifier, VotingClassifier, ExtraTreesClassifier, VotingClassifier, BaggingClassifier, AdaBoostClassifier\n",
        "from sklearn.feature_extraction.text import CountVectorizer, TfidfVectorizer\n",
        "from sklearn.feature_extraction import text \n",
        "from sklearn.linear_model import LogisticRegression, SGDClassifier\n",
        "from sklearn.model_selection import train_test_split\n",
        "from sklearn.metrics import mean_squared_error, ConfusionMatrixDisplay\n",
        "from sklearn.pipeline import Pipeline\n",
        "from sklearn.preprocessing import StandardScaler\n",
        "import xgboost as xgb\n",
        "import matplotlib.pyplot as plt\n",
        "nltk.download('stopwords')"
      ]
    },
    {
      "cell_type": "markdown",
      "metadata": {
        "id": "91rC_BK_MIg0"
      },
      "source": [
        "## Import Subreddit DF's"
      ]
    },
    {
      "cell_type": "code",
      "execution_count": 6,
      "metadata": {
        "id": "9g_1OuNLMIg0"
      },
      "outputs": [],
      "source": [
        "df = pd.read_csv('../data/Subreddits_Data.csv', usecols = ['subreddit','selftext', 'title', 'corrected_title', 'char_count', 'word_count', 'neg', 'neu', 'pos', 'compound'])\n",
        "df[['selftext', 'title', 'corrected_title']] = df[['selftext', 'title', 'corrected_title']].fillna('')\n",
        "\n",
        "cat_col = ['corrected_title']\n",
        "num_col = ['word_count', 'char_count', 'compound', 'pos', 'neu', 'neg']"
      ]
    },
    {
      "cell_type": "code",
      "execution_count": 7,
      "metadata": {
        "id": "uP5oRwOAMIg0"
      },
      "outputs": [],
      "source": [
        "# df[df['subreddit'] == 1] = 'explainlikeimfive'\n",
        "# df[df['subreddit'] == 0] = 'NoStupidQuestions'"
      ]
    },
    {
      "cell_type": "code",
      "execution_count": 8,
      "metadata": {
        "colab": {
          "base_uri": "https://localhost:8080/"
        },
        "id": "R5oJkQgWMIg0",
        "outputId": "66d4741e-c596-4c9b-8ad0-d4ea2f0c9c6c"
      },
      "outputs": [
        {
          "data": {
            "text/plain": [
              "1    0.5004\n",
              "0    0.4996\n",
              "Name: subreddit, dtype: float64"
            ]
          },
          "execution_count": 8,
          "metadata": {},
          "output_type": "execute_result"
        }
      ],
      "source": [
        "round(df['subreddit'].value_counts(normalize=True), 4)"
      ]
    },
    {
      "cell_type": "markdown",
      "metadata": {
        "id": "DPetN1t6MIg1"
      },
      "source": [
        "## Model"
      ]
    },
    {
      "cell_type": "code",
      "execution_count": 9,
      "metadata": {
        "id": "Czz7Lnf_MIg2"
      },
      "outputs": [],
      "source": [
        "stop_words  = stopwords.words('english')\n",
        "count_vec_pipe = Pipeline(\n",
        "                            [\n",
        "                                ('tfid', TfidfVectorizer(stop_words=stop_words + ['people', 'make'], ngram_range=(1,1))),\n",
        "                                # ('vect', CountVectorizer(stop_words=stop_words, ngram_range=(1,1))),\n",
        "                            ]\n",
        "                        )\n",
        "count_vec_pipe.fit(df['corrected_title'])\n",
        "df_count_vec = pd.DataFrame(count_vec_pipe.transform(df['corrected_title']).A, columns=count_vec_pipe.get_feature_names_out())\n",
        "\n",
        "\n",
        "master_df = pd.concat([df, df_count_vec], axis=1)\n",
        "master_df = master_df.loc[:,~master_df.columns.duplicated()]"
      ]
    },
    {
      "cell_type": "code",
      "execution_count": 10,
      "metadata": {
        "colab": {
          "base_uri": "https://localhost:8080/"
        },
        "id": "DkTfFTVbMIg2",
        "outputId": "3ccc9833-83eb-49fe-cb68-09f22aa6518c"
      },
      "outputs": [
        {
          "data": {
            "text/plain": [
              "Pipeline(steps=[('ct',\n",
              "                 ColumnTransformer(remainder='passthrough',\n",
              "                                   transformers=[('ss', StandardScaler(),\n",
              "                                                  ['word_count', 'char_count',\n",
              "                                                   'compound', 'pos', 'neu',\n",
              "                                                   'neg'])])),\n",
              "                ('vc1',\n",
              "                 VotingClassifier(estimators=[('adb', AdaBoostClassifier()),\n",
              "                                              ('boosting', XGBClassifier()),\n",
              "                                              ('bagging', BaggingClassifier()),\n",
              "                                              ('rfc', RandomForestClassifier()),\n",
              "                                              ('etc', ExtraTreesClassifier())],\n",
              "                                  n_jobs=-1,\n",
              "                                  weights=[0.1, 0.1, 0.1, 0.3, 0.3]))])"
            ]
          },
          "execution_count": 10,
          "metadata": {},
          "output_type": "execute_result"
        }
      ],
      "source": [
        "X = master_df.drop(columns=['subreddit', 'selftext', 'title', 'corrected_title'])\n",
        "y = master_df['subreddit']\n",
        "\n",
        "X_train, X_test, y_train, y_test = train_test_split(X, y, random_state=42, stratify=y)\n",
        "\n",
        "vc1 = VotingClassifier(\n",
        "    [\n",
        "        ('adb', AdaBoostClassifier()),\n",
        "        ('boosting', xgb.XGBClassifier()),\n",
        "        ('bagging', BaggingClassifier()),\n",
        "        ('rfc', RandomForestClassifier()),\n",
        "        ('etc', ExtraTreesClassifier()),\n",
        "    ],\n",
        "    weights = [.1, .1, .1, .30, .30],\n",
        "    n_jobs=-1\n",
        ")\n",
        "ct1 = ColumnTransformer([\n",
        "    ('ss', StandardScaler(), num_col), # polynomial numeric columns\n",
        "], remainder = 'passthrough')\n",
        "pipe = Pipeline([\n",
        "    ('ct', ct1),\n",
        "    ('vc1', vc1)\n",
        "])\n",
        "pipe.fit(X_train, y_train)"
      ]
    },
    {
      "cell_type": "markdown",
      "metadata": {
        "id": "gGbiSOSeMIg3"
      },
      "source": [
        "## Metrics:"
      ]
    },
    {
      "cell_type": "code",
      "execution_count": 11,
      "metadata": {
        "colab": {
          "base_uri": "https://localhost:8080/"
        },
        "id": "IbIlHWrgMIg3",
        "outputId": "cae26b7a-f411-4c38-9fb5-4ec46c5b6ef9"
      },
      "outputs": [
        {
          "data": {
            "text/plain": [
              "(1.0, 0.8657136161237403)"
            ]
          },
          "execution_count": 11,
          "metadata": {},
          "output_type": "execute_result"
        }
      ],
      "source": [
        "pipe.score(X_train, y_train), pipe.score(X_test, y_test)"
      ]
    },
    {
      "cell_type": "code",
      "execution_count": 12,
      "metadata": {
        "id": "PLCVMj7IMIg3"
      },
      "outputs": [],
      "source": [
        "preds = pipe.predict(X_test)\n"
      ]
    },
    {
      "cell_type": "code",
      "execution_count": null,
      "metadata": {
        "id": "bY6NEcqbMIg4",
        "outputId": "794dc3b5-34c3-4e9b-eafc-f9bc0cd9bd89"
      },
      "outputs": [
        {
          "data": {
            "text/plain": [
              "<Figure size 1080x720 with 0 Axes>"
            ]
          },
          "metadata": {},
          "output_type": "display_data"
        },
        {
          "data": {
            "image/png": "[encoded data removed]",
            "text/plain": [
              "<Figure size 432x288 with 2 Axes>"
            ]
          },
          "metadata": {
            "needs_background": "light"
          },
          "output_type": "display_data"
        }
      ],
      "source": [
        "plt.figure(figsize=(15,10))\n",
        "ConfusionMatrixDisplay.from_estimator(pipe, X_test, y_test)\n",
        "plt.savefig(\"../img/cm_final_model.png\")\n",
        "plt.show()"
      ]
    },
    {
      "cell_type": "code",
      "execution_count": 17,
      "metadata": {
        "colab": {
          "base_uri": "https://localhost:8080/"
        },
        "id": "ejluECzAMIg4",
        "outputId": "81f4726c-84ea-4f75-de73-5b8a76d88e54"
      },
      "outputs": [
        {
          "data": {
            "text/plain": [
              "(0.8656669200451688, 0.8741489128047442, 0.8656669200451689)"
            ]
          },
          "execution_count": 17,
          "metadata": {},
          "output_type": "execute_result"
        }
      ],
      "source": [
        "from sklearn.metrics import balanced_accuracy_score, f1_score, roc_auc_score\n",
        "balanced_accuracy_score(y_test, preds), f1_score(y_test, preds), roc_auc_score(y_test, preds)"
      ]
    },
    {
      "cell_type": "code",
      "execution_count": null,
      "metadata": {
        "id": "JRAa3MtEMIg5"
      },
      "outputs": [],
      "source": [
        "# pipe.named_steps['vc1'].named_estimators_['adb'].feature_importances_\n",
        "# pipe.named_steps['vc1'].named_estimators_['boosting'].feature_importances_\n",
        "# pipe.named_steps['vc1'].named_estimators_['bagging'].feature_importances_\n",
        "# pipe.named_steps['vc1'].named_estimators_['rfc'].feature_importances_\n",
        "# pipe.named_steps['vc1'].named_estimators_['etc'].feature_importances_\n"
      ]
    }
  ],
  "metadata": {
    "accelerator": "GPU",
    "colab": {
      "collapsed_sections": [],
      "machine_shape": "hm",
      "name": "final_model.ipynb",
      "provenance": []
    },
    "interpreter": {
      "hash": "a11ccf3dc2c92741bddd350bb7523450eb60ea43bb3bcb71822b2ca4a17fa62f"
    },
    "kernelspec": {
      "display_name": "Python 3.9.7 ('GA_lib': venv)",
      "language": "python",
      "name": "python3"
    },
    "language_info": {
      "codemirror_mode": {
        "name": "ipython",
        "version": 3
      },
      "file_extension": ".py",
      "mimetype": "text/x-python",
      "name": "python",
      "nbconvert_exporter": "python",
      "pygments_lexer": "ipython3",
      "version": "3.9.7"
    },
    "orig_nbformat": 4
  },
  "nbformat": 4,
  "nbformat_minor": 0
}
