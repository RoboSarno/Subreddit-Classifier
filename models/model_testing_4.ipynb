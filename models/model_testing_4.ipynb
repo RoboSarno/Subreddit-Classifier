{
 "cells": [
  {
   "cell_type": "markdown",
   "metadata": {},
   "source": [
    "# Model 4"
   ]
  },
  {
   "cell_type": "markdown",
   "metadata": {},
   "source": [
    "## Import libraries"
   ]
  },
  {
   "cell_type": "code",
   "execution_count": 31,
   "metadata": {},
   "outputs": [],
   "source": [
    "from sklearn.model_selection import train_test_split, GridSearchCV\n",
    "from sklearn.linear_model import LogisticRegression, SGDClassifier, LassoCV\n",
    "from sklearn.feature_extraction.text import CountVectorizer, TfidfTransformer,TfidfVectorizer\n",
    "from sklearn.feature_extraction import text \n",
    "from sklearn.metrics import mean_absolute_error, ConfusionMatrixDisplay\n",
    "from sklearn.ensemble import RandomForestClassifier, VotingClassifier, ExtraTreesClassifier, VotingClassifier, BaggingClassifier, AdaBoostClassifier\n",
    "from sklearn.neighbors import KNeighborsClassifier\n",
    "from sklearn.tree import DecisionTreeClassifier\n",
    "from sklearn.naive_bayes import GaussianNB, MultinomialNB\n",
    "\n",
    "import xgboost as xgb\n",
    "\n",
    "from sklearn.pipeline import Pipeline\n",
    "from sklearn.preprocessing import StandardScaler\n",
    "from sklearn.compose import ColumnTransformer\n",
    "\n",
    "\n",
    "import pandas as pd\n",
    "import numpy as np\n",
    "\n",
    "import nltk\n",
    "from nltk.corpus import stopwords\n"
   ]
  },
  {
   "cell_type": "markdown",
   "metadata": {},
   "source": [
    "## Readin Subreddit Data"
   ]
  },
  {
   "cell_type": "code",
   "execution_count": 32,
   "metadata": {},
   "outputs": [],
   "source": [
    "df = pd.read_csv('../data/Subreddits_Data.csv', usecols = ['subreddit','selftext', 'title', 'corrected_title', 'char_count', 'word_count', 'neg', 'neu', 'pos', 'compound'])\n",
    "df[['selftext', 'title', 'corrected_title']] = df[['selftext', 'title', 'corrected_title']].fillna('')"
   ]
  },
  {
   "cell_type": "markdown",
   "metadata": {},
   "source": [
    "## CountVectorizer"
   ]
  },
  {
   "cell_type": "code",
   "execution_count": 33,
   "metadata": {},
   "outputs": [],
   "source": [
    "stop_words  = stopwords.words('english')\n",
    "\n",
    "count_vec_pipe = Pipeline(\n",
    "                            [\n",
    "                                ('tfid', TfidfVectorizer(stop_words=stop_words, ngram_range=(1,1))),\n",
    "                                # ('vect', CountVectorizer(stop_words=stop_words, ngram_range=(1,1))),\n",
    "                            ]\n",
    "                        )\n",
    "count_vec_pipe.fit(df['corrected_title'])\n",
    "df_count_vec = pd.DataFrame(count_vec_pipe.transform(df['corrected_title']).A, columns=count_vec_pipe.get_feature_names_out())\n"
   ]
  },
  {
   "cell_type": "code",
   "execution_count": 34,
   "metadata": {},
   "outputs": [],
   "source": [
    "\n",
    "master_df = pd.concat([df, df_count_vec], axis=1)\n",
    "master_df = master_df.loc[:,~master_df.columns.duplicated()]"
   ]
  },
  {
   "cell_type": "code",
   "execution_count": 35,
   "metadata": {},
   "outputs": [],
   "source": [
    "cat_col = ['corrected_title']\n",
    "num_col = ['word_count', 'char_count', 'compound', 'pos', 'neu', 'neg']"
   ]
  },
  {
   "cell_type": "markdown",
   "metadata": {},
   "source": [
    "## Finding best Model"
   ]
  },
  {
   "cell_type": "code",
   "execution_count": 23,
   "metadata": {},
   "outputs": [
    {
     "data": {
      "text/plain": [
       "(0.9150648538834193, 0.7473634872275603)"
      ]
     },
     "execution_count": 23,
     "metadata": {},
     "output_type": "execute_result"
    }
   ],
   "source": [
    "X = master_df.drop(columns=['subreddit', 'selftext', 'title', 'corrected_title', 'compound', 'pos', 'neu', 'neg'])\n",
    "y = master_df['subreddit']\n",
    "\n",
    "X_train, X_test, y_train, y_test = train_test_split(X, y, random_state=42, stratify=y)\n",
    "ct = ColumnTransformer([\n",
    "    ('ss', StandardScaler(), num_col), # numeric columns\n",
    "    ('adb', AdaBoostClassifier()),\n",
    "    ('boosting', xgb.XGBClassifier()),\n",
    "    ('bagging', BaggingClassifier()),\n",
    "    ('rfc', RandomForestClassifier()),\n",
    "    ('lr', LogisticRegression(max_iter=10_000)),\n",
    "], remainder = 'passthrough')\n",
    "mnb_model = Pipeline(\n",
    "                    [\n",
    "                        ('clf', MultinomialNB(alpha=.1))\n",
    "                    ]\n",
    "                )\n",
    "mnb_model.fit(X_train, y_train)\n",
    "mnb_model.score(X_train, y_train),mnb_model.score(X_test, y_test)"
   ]
  },
  {
   "cell_type": "code",
   "execution_count": 66,
   "metadata": {},
   "outputs": [
    {
     "data": {
      "text/plain": [
       "(0.9794692038057086, 0.8119555422048663)"
      ]
     },
     "execution_count": 66,
     "metadata": {},
     "output_type": "execute_result"
    }
   ],
   "source": [
    "X = master_df.drop(columns=['subreddit', 'selftext', 'title', 'corrected_title'])\n",
    "y = master_df['subreddit']\n",
    "\n",
    "X_train, X_test, y_train, y_test = train_test_split(X, y, random_state=42, stratify=y)\n",
    "\n",
    "vc1 = VotingClassifier(\n",
    "    [\n",
    "        ('adb', AdaBoostClassifier()),\n",
    "        ('boosting', xgb.XGBClassifier()),\n",
    "        ('bagging', BaggingClassifier()),\n",
    "        ('etc', ExtraTreesClassifier()),\n",
    "    ],\n",
    "    n_jobs=-1\n",
    ")\n",
    "ct1 = ColumnTransformer([\n",
    "    ('ss', StandardScaler(), num_col), # polynomial numeric columns\n",
    "], remainder = 'passthrough')\n",
    "pipe = Pipeline([\n",
    "    ('ct', ct1),\n",
    "    ('vc1', vc1)\n",
    "])\n",
    "pipe.fit(X_train, y_train)\n",
    "pipe.score(X_train, y_train), pipe.score(X_test, y_test)"
   ]
  },
  {
   "cell_type": "code",
   "execution_count": 67,
   "metadata": {},
   "outputs": [
    {
     "data": {
      "text/plain": [
       "(0.9457185778668002, 0.807149294082307)"
      ]
     },
     "execution_count": 67,
     "metadata": {},
     "output_type": "execute_result"
    }
   ],
   "source": [
    "X = master_df.drop(columns=['subreddit', 'selftext', 'title', 'corrected_title'])\n",
    "y = master_df['subreddit']\n",
    "\n",
    "X_train, X_test, y_train, y_test = train_test_split(X, y, random_state=42, stratify=y)\n",
    "\n",
    "vc1 = VotingClassifier(\n",
    "    [\n",
    "        ('adb', AdaBoostClassifier()),\n",
    "        ('boosting', xgb.XGBClassifier()),\n",
    "        ('bagging', BaggingClassifier()),\n",
    "        ('lr', LogisticRegression(max_iter=10_000)),\n",
    "    ],\n",
    "    n_jobs=-1\n",
    ")\n",
    "ct1 = ColumnTransformer([\n",
    "    ('ss', StandardScaler(), num_col), # polynomial numeric columns\n",
    "], remainder = 'passthrough')\n",
    "pipe = Pipeline([\n",
    "    ('ct', ct1),\n",
    "    ('vc1', vc1)\n",
    "])\n",
    "pipe.fit(X_train, y_train)\n",
    "pipe.score(X_train, y_train), pipe.score(X_test, y_test)"
   ]
  },
  {
   "cell_type": "code",
   "execution_count": 68,
   "metadata": {},
   "outputs": [
    {
     "data": {
      "text/plain": [
       "(0.9792689033550326, 0.8104535896665666)"
      ]
     },
     "execution_count": 68,
     "metadata": {},
     "output_type": "execute_result"
    }
   ],
   "source": [
    "X = master_df.drop(columns=['subreddit', 'selftext', 'title', 'corrected_title'])\n",
    "y = master_df['subreddit']\n",
    "\n",
    "X_train, X_test, y_train, y_test = train_test_split(X, y, random_state=42, stratify=y)\n",
    "\n",
    "vc1 = VotingClassifier(\n",
    "    [\n",
    "        ('adb', AdaBoostClassifier()),\n",
    "        ('boosting', xgb.XGBClassifier()),\n",
    "        ('bagging', BaggingClassifier()),\n",
    "        ('rfc', RandomForestClassifier()),\n",
    "    ],\n",
    "    n_jobs=-1\n",
    ")\n",
    "ct1 = ColumnTransformer([\n",
    "    ('ss', StandardScaler(), num_col), # polynomial numeric columns\n",
    "], remainder = 'passthrough')\n",
    "pipe = Pipeline([\n",
    "    ('ct', ct1),\n",
    "    ('vc1', vc1)\n",
    "])\n",
    "pipe.fit(X_train, y_train)\n",
    "pipe.score(X_train, y_train), pipe.score(X_test, y_test)"
   ]
  },
  {
   "cell_type": "code",
   "execution_count": 25,
   "metadata": {},
   "outputs": [
    {
     "ename": "KeyboardInterrupt",
     "evalue": "",
     "output_type": "error",
     "traceback": [
      "\u001b[0;31m---------------------------------------------------------------------------\u001b[0m",
      "\u001b[0;31mKeyboardInterrupt\u001b[0m                         Traceback (most recent call last)",
      "\u001b[1;32m/Users/robertsarno/Documents/Spring_2022/Learning/General_Assembly/Projects/project-3/models/model_4.ipynb Cell 15'\u001b[0m in \u001b[0;36m<cell line: 24>\u001b[0;34m()\u001b[0m\n\u001b[1;32m     <a href='vscode-notebook-cell:/Users/robertsarno/Documents/Spring_2022/Learning/General_Assembly/Projects/project-3/models/model_4.ipynb#ch0000014?line=16'>17</a>\u001b[0m ct1 \u001b[39m=\u001b[39m ColumnTransformer([\n\u001b[1;32m     <a href='vscode-notebook-cell:/Users/robertsarno/Documents/Spring_2022/Learning/General_Assembly/Projects/project-3/models/model_4.ipynb#ch0000014?line=17'>18</a>\u001b[0m     (\u001b[39m'\u001b[39m\u001b[39mss\u001b[39m\u001b[39m'\u001b[39m, StandardScaler(), num_col), \u001b[39m# polynomial numeric columns\u001b[39;00m\n\u001b[1;32m     <a href='vscode-notebook-cell:/Users/robertsarno/Documents/Spring_2022/Learning/General_Assembly/Projects/project-3/models/model_4.ipynb#ch0000014?line=18'>19</a>\u001b[0m ], remainder \u001b[39m=\u001b[39m \u001b[39m'\u001b[39m\u001b[39mpassthrough\u001b[39m\u001b[39m'\u001b[39m)\n\u001b[1;32m     <a href='vscode-notebook-cell:/Users/robertsarno/Documents/Spring_2022/Learning/General_Assembly/Projects/project-3/models/model_4.ipynb#ch0000014?line=19'>20</a>\u001b[0m pipe \u001b[39m=\u001b[39m Pipeline([\n\u001b[1;32m     <a href='vscode-notebook-cell:/Users/robertsarno/Documents/Spring_2022/Learning/General_Assembly/Projects/project-3/models/model_4.ipynb#ch0000014?line=20'>21</a>\u001b[0m     (\u001b[39m'\u001b[39m\u001b[39mct\u001b[39m\u001b[39m'\u001b[39m, ct1),\n\u001b[1;32m     <a href='vscode-notebook-cell:/Users/robertsarno/Documents/Spring_2022/Learning/General_Assembly/Projects/project-3/models/model_4.ipynb#ch0000014?line=21'>22</a>\u001b[0m     (\u001b[39m'\u001b[39m\u001b[39mvc1\u001b[39m\u001b[39m'\u001b[39m, vc1)\n\u001b[1;32m     <a href='vscode-notebook-cell:/Users/robertsarno/Documents/Spring_2022/Learning/General_Assembly/Projects/project-3/models/model_4.ipynb#ch0000014?line=22'>23</a>\u001b[0m ])\n\u001b[0;32m---> <a href='vscode-notebook-cell:/Users/robertsarno/Documents/Spring_2022/Learning/General_Assembly/Projects/project-3/models/model_4.ipynb#ch0000014?line=23'>24</a>\u001b[0m pipe\u001b[39m.\u001b[39;49mfit(X_train, y_train)\n\u001b[1;32m     <a href='vscode-notebook-cell:/Users/robertsarno/Documents/Spring_2022/Learning/General_Assembly/Projects/project-3/models/model_4.ipynb#ch0000014?line=24'>25</a>\u001b[0m pipe\u001b[39m.\u001b[39mscore(X_train, y_train), pipe\u001b[39m.\u001b[39mscore(X_test, y_test)\n",
      "File \u001b[0;32m~/Documents/Spring_2022/Learning/General_Assembly/GA_lib/lib/python3.9/site-packages/sklearn/pipeline.py:394\u001b[0m, in \u001b[0;36mPipeline.fit\u001b[0;34m(self, X, y, **fit_params)\u001b[0m\n\u001b[1;32m    <a href='file:///Users/robertsarno/Documents/Spring_2022/Learning/General_Assembly/GA_lib/lib/python3.9/site-packages/sklearn/pipeline.py?line=391'>392</a>\u001b[0m     \u001b[39mif\u001b[39;00m \u001b[39mself\u001b[39m\u001b[39m.\u001b[39m_final_estimator \u001b[39m!=\u001b[39m \u001b[39m\"\u001b[39m\u001b[39mpassthrough\u001b[39m\u001b[39m\"\u001b[39m:\n\u001b[1;32m    <a href='file:///Users/robertsarno/Documents/Spring_2022/Learning/General_Assembly/GA_lib/lib/python3.9/site-packages/sklearn/pipeline.py?line=392'>393</a>\u001b[0m         fit_params_last_step \u001b[39m=\u001b[39m fit_params_steps[\u001b[39mself\u001b[39m\u001b[39m.\u001b[39msteps[\u001b[39m-\u001b[39m\u001b[39m1\u001b[39m][\u001b[39m0\u001b[39m]]\n\u001b[0;32m--> <a href='file:///Users/robertsarno/Documents/Spring_2022/Learning/General_Assembly/GA_lib/lib/python3.9/site-packages/sklearn/pipeline.py?line=393'>394</a>\u001b[0m         \u001b[39mself\u001b[39;49m\u001b[39m.\u001b[39;49m_final_estimator\u001b[39m.\u001b[39;49mfit(Xt, y, \u001b[39m*\u001b[39;49m\u001b[39m*\u001b[39;49mfit_params_last_step)\n\u001b[1;32m    <a href='file:///Users/robertsarno/Documents/Spring_2022/Learning/General_Assembly/GA_lib/lib/python3.9/site-packages/sklearn/pipeline.py?line=395'>396</a>\u001b[0m \u001b[39mreturn\u001b[39;00m \u001b[39mself\u001b[39m\n",
      "File \u001b[0;32m~/Documents/Spring_2022/Learning/General_Assembly/GA_lib/lib/python3.9/site-packages/sklearn/ensemble/_voting.py:324\u001b[0m, in \u001b[0;36mVotingClassifier.fit\u001b[0;34m(self, X, y, sample_weight)\u001b[0m\n\u001b[1;32m    <a href='file:///Users/robertsarno/Documents/Spring_2022/Learning/General_Assembly/GA_lib/lib/python3.9/site-packages/sklearn/ensemble/_voting.py?line=320'>321</a>\u001b[0m \u001b[39mself\u001b[39m\u001b[39m.\u001b[39mclasses_ \u001b[39m=\u001b[39m \u001b[39mself\u001b[39m\u001b[39m.\u001b[39mle_\u001b[39m.\u001b[39mclasses_\n\u001b[1;32m    <a href='file:///Users/robertsarno/Documents/Spring_2022/Learning/General_Assembly/GA_lib/lib/python3.9/site-packages/sklearn/ensemble/_voting.py?line=321'>322</a>\u001b[0m transformed_y \u001b[39m=\u001b[39m \u001b[39mself\u001b[39m\u001b[39m.\u001b[39mle_\u001b[39m.\u001b[39mtransform(y)\n\u001b[0;32m--> <a href='file:///Users/robertsarno/Documents/Spring_2022/Learning/General_Assembly/GA_lib/lib/python3.9/site-packages/sklearn/ensemble/_voting.py?line=323'>324</a>\u001b[0m \u001b[39mreturn\u001b[39;00m \u001b[39msuper\u001b[39;49m()\u001b[39m.\u001b[39;49mfit(X, transformed_y, sample_weight)\n",
      "File \u001b[0;32m~/Documents/Spring_2022/Learning/General_Assembly/GA_lib/lib/python3.9/site-packages/sklearn/ensemble/_voting.py:74\u001b[0m, in \u001b[0;36m_BaseVoting.fit\u001b[0;34m(self, X, y, sample_weight)\u001b[0m\n\u001b[1;32m     <a href='file:///Users/robertsarno/Documents/Spring_2022/Learning/General_Assembly/GA_lib/lib/python3.9/site-packages/sklearn/ensemble/_voting.py?line=66'>67</a>\u001b[0m \u001b[39mif\u001b[39;00m \u001b[39mself\u001b[39m\u001b[39m.\u001b[39mweights \u001b[39mis\u001b[39;00m \u001b[39mnot\u001b[39;00m \u001b[39mNone\u001b[39;00m \u001b[39mand\u001b[39;00m \u001b[39mlen\u001b[39m(\u001b[39mself\u001b[39m\u001b[39m.\u001b[39mweights) \u001b[39m!=\u001b[39m \u001b[39mlen\u001b[39m(\u001b[39mself\u001b[39m\u001b[39m.\u001b[39mestimators):\n\u001b[1;32m     <a href='file:///Users/robertsarno/Documents/Spring_2022/Learning/General_Assembly/GA_lib/lib/python3.9/site-packages/sklearn/ensemble/_voting.py?line=67'>68</a>\u001b[0m     \u001b[39mraise\u001b[39;00m \u001b[39mValueError\u001b[39;00m(\n\u001b[1;32m     <a href='file:///Users/robertsarno/Documents/Spring_2022/Learning/General_Assembly/GA_lib/lib/python3.9/site-packages/sklearn/ensemble/_voting.py?line=68'>69</a>\u001b[0m         \u001b[39m\"\u001b[39m\u001b[39mNumber of `estimators` and weights must be equal\u001b[39m\u001b[39m\"\u001b[39m\n\u001b[1;32m     <a href='file:///Users/robertsarno/Documents/Spring_2022/Learning/General_Assembly/GA_lib/lib/python3.9/site-packages/sklearn/ensemble/_voting.py?line=69'>70</a>\u001b[0m         \u001b[39m\"\u001b[39m\u001b[39m; got \u001b[39m\u001b[39m%d\u001b[39;00m\u001b[39m weights, \u001b[39m\u001b[39m%d\u001b[39;00m\u001b[39m estimators\u001b[39m\u001b[39m\"\u001b[39m\n\u001b[1;32m     <a href='file:///Users/robertsarno/Documents/Spring_2022/Learning/General_Assembly/GA_lib/lib/python3.9/site-packages/sklearn/ensemble/_voting.py?line=70'>71</a>\u001b[0m         \u001b[39m%\u001b[39m (\u001b[39mlen\u001b[39m(\u001b[39mself\u001b[39m\u001b[39m.\u001b[39mweights), \u001b[39mlen\u001b[39m(\u001b[39mself\u001b[39m\u001b[39m.\u001b[39mestimators))\n\u001b[1;32m     <a href='file:///Users/robertsarno/Documents/Spring_2022/Learning/General_Assembly/GA_lib/lib/python3.9/site-packages/sklearn/ensemble/_voting.py?line=71'>72</a>\u001b[0m     )\n\u001b[0;32m---> <a href='file:///Users/robertsarno/Documents/Spring_2022/Learning/General_Assembly/GA_lib/lib/python3.9/site-packages/sklearn/ensemble/_voting.py?line=73'>74</a>\u001b[0m \u001b[39mself\u001b[39m\u001b[39m.\u001b[39mestimators_ \u001b[39m=\u001b[39m Parallel(n_jobs\u001b[39m=\u001b[39;49m\u001b[39mself\u001b[39;49m\u001b[39m.\u001b[39;49mn_jobs)(\n\u001b[1;32m     <a href='file:///Users/robertsarno/Documents/Spring_2022/Learning/General_Assembly/GA_lib/lib/python3.9/site-packages/sklearn/ensemble/_voting.py?line=74'>75</a>\u001b[0m     delayed(_fit_single_estimator)(\n\u001b[1;32m     <a href='file:///Users/robertsarno/Documents/Spring_2022/Learning/General_Assembly/GA_lib/lib/python3.9/site-packages/sklearn/ensemble/_voting.py?line=75'>76</a>\u001b[0m         clone(clf),\n\u001b[1;32m     <a href='file:///Users/robertsarno/Documents/Spring_2022/Learning/General_Assembly/GA_lib/lib/python3.9/site-packages/sklearn/ensemble/_voting.py?line=76'>77</a>\u001b[0m         X,\n\u001b[1;32m     <a href='file:///Users/robertsarno/Documents/Spring_2022/Learning/General_Assembly/GA_lib/lib/python3.9/site-packages/sklearn/ensemble/_voting.py?line=77'>78</a>\u001b[0m         y,\n\u001b[1;32m     <a href='file:///Users/robertsarno/Documents/Spring_2022/Learning/General_Assembly/GA_lib/lib/python3.9/site-packages/sklearn/ensemble/_voting.py?line=78'>79</a>\u001b[0m         sample_weight\u001b[39m=\u001b[39;49msample_weight,\n\u001b[1;32m     <a href='file:///Users/robertsarno/Documents/Spring_2022/Learning/General_Assembly/GA_lib/lib/python3.9/site-packages/sklearn/ensemble/_voting.py?line=79'>80</a>\u001b[0m         message_clsname\u001b[39m=\u001b[39;49m\u001b[39m\"\u001b[39;49m\u001b[39mVoting\u001b[39;49m\u001b[39m\"\u001b[39;49m,\n\u001b[1;32m     <a href='file:///Users/robertsarno/Documents/Spring_2022/Learning/General_Assembly/GA_lib/lib/python3.9/site-packages/sklearn/ensemble/_voting.py?line=80'>81</a>\u001b[0m         message\u001b[39m=\u001b[39;49m\u001b[39mself\u001b[39;49m\u001b[39m.\u001b[39;49m_log_message(names[idx], idx \u001b[39m+\u001b[39;49m \u001b[39m1\u001b[39;49m, \u001b[39mlen\u001b[39;49m(clfs)),\n\u001b[1;32m     <a href='file:///Users/robertsarno/Documents/Spring_2022/Learning/General_Assembly/GA_lib/lib/python3.9/site-packages/sklearn/ensemble/_voting.py?line=81'>82</a>\u001b[0m     )\n\u001b[1;32m     <a href='file:///Users/robertsarno/Documents/Spring_2022/Learning/General_Assembly/GA_lib/lib/python3.9/site-packages/sklearn/ensemble/_voting.py?line=82'>83</a>\u001b[0m     \u001b[39mfor\u001b[39;49;00m idx, clf \u001b[39min\u001b[39;49;00m \u001b[39menumerate\u001b[39;49m(clfs)\n\u001b[1;32m     <a href='file:///Users/robertsarno/Documents/Spring_2022/Learning/General_Assembly/GA_lib/lib/python3.9/site-packages/sklearn/ensemble/_voting.py?line=83'>84</a>\u001b[0m     \u001b[39mif\u001b[39;49;00m clf \u001b[39m!=\u001b[39;49m \u001b[39m\"\u001b[39;49m\u001b[39mdrop\u001b[39;49m\u001b[39m\"\u001b[39;49m\n\u001b[1;32m     <a href='file:///Users/robertsarno/Documents/Spring_2022/Learning/General_Assembly/GA_lib/lib/python3.9/site-packages/sklearn/ensemble/_voting.py?line=84'>85</a>\u001b[0m )\n\u001b[1;32m     <a href='file:///Users/robertsarno/Documents/Spring_2022/Learning/General_Assembly/GA_lib/lib/python3.9/site-packages/sklearn/ensemble/_voting.py?line=86'>87</a>\u001b[0m \u001b[39mself\u001b[39m\u001b[39m.\u001b[39mnamed_estimators_ \u001b[39m=\u001b[39m Bunch()\n\u001b[1;32m     <a href='file:///Users/robertsarno/Documents/Spring_2022/Learning/General_Assembly/GA_lib/lib/python3.9/site-packages/sklearn/ensemble/_voting.py?line=88'>89</a>\u001b[0m \u001b[39m# Uses 'drop' as placeholder for dropped estimators\u001b[39;00m\n",
      "File \u001b[0;32m~/Documents/Spring_2022/Learning/General_Assembly/GA_lib/lib/python3.9/site-packages/joblib/parallel.py:1056\u001b[0m, in \u001b[0;36mParallel.__call__\u001b[0;34m(self, iterable)\u001b[0m\n\u001b[1;32m   <a href='file:///Users/robertsarno/Documents/Spring_2022/Learning/General_Assembly/GA_lib/lib/python3.9/site-packages/joblib/parallel.py?line=1052'>1053</a>\u001b[0m     \u001b[39mself\u001b[39m\u001b[39m.\u001b[39m_iterating \u001b[39m=\u001b[39m \u001b[39mFalse\u001b[39;00m\n\u001b[1;32m   <a href='file:///Users/robertsarno/Documents/Spring_2022/Learning/General_Assembly/GA_lib/lib/python3.9/site-packages/joblib/parallel.py?line=1054'>1055</a>\u001b[0m \u001b[39mwith\u001b[39;00m \u001b[39mself\u001b[39m\u001b[39m.\u001b[39m_backend\u001b[39m.\u001b[39mretrieval_context():\n\u001b[0;32m-> <a href='file:///Users/robertsarno/Documents/Spring_2022/Learning/General_Assembly/GA_lib/lib/python3.9/site-packages/joblib/parallel.py?line=1055'>1056</a>\u001b[0m     \u001b[39mself\u001b[39;49m\u001b[39m.\u001b[39;49mretrieve()\n\u001b[1;32m   <a href='file:///Users/robertsarno/Documents/Spring_2022/Learning/General_Assembly/GA_lib/lib/python3.9/site-packages/joblib/parallel.py?line=1056'>1057</a>\u001b[0m \u001b[39m# Make sure that we get a last message telling us we are done\u001b[39;00m\n\u001b[1;32m   <a href='file:///Users/robertsarno/Documents/Spring_2022/Learning/General_Assembly/GA_lib/lib/python3.9/site-packages/joblib/parallel.py?line=1057'>1058</a>\u001b[0m elapsed_time \u001b[39m=\u001b[39m time\u001b[39m.\u001b[39mtime() \u001b[39m-\u001b[39m \u001b[39mself\u001b[39m\u001b[39m.\u001b[39m_start_time\n",
      "File \u001b[0;32m~/Documents/Spring_2022/Learning/General_Assembly/GA_lib/lib/python3.9/site-packages/joblib/parallel.py:935\u001b[0m, in \u001b[0;36mParallel.retrieve\u001b[0;34m(self)\u001b[0m\n\u001b[1;32m    <a href='file:///Users/robertsarno/Documents/Spring_2022/Learning/General_Assembly/GA_lib/lib/python3.9/site-packages/joblib/parallel.py?line=932'>933</a>\u001b[0m \u001b[39mtry\u001b[39;00m:\n\u001b[1;32m    <a href='file:///Users/robertsarno/Documents/Spring_2022/Learning/General_Assembly/GA_lib/lib/python3.9/site-packages/joblib/parallel.py?line=933'>934</a>\u001b[0m     \u001b[39mif\u001b[39;00m \u001b[39mgetattr\u001b[39m(\u001b[39mself\u001b[39m\u001b[39m.\u001b[39m_backend, \u001b[39m'\u001b[39m\u001b[39msupports_timeout\u001b[39m\u001b[39m'\u001b[39m, \u001b[39mFalse\u001b[39;00m):\n\u001b[0;32m--> <a href='file:///Users/robertsarno/Documents/Spring_2022/Learning/General_Assembly/GA_lib/lib/python3.9/site-packages/joblib/parallel.py?line=934'>935</a>\u001b[0m         \u001b[39mself\u001b[39m\u001b[39m.\u001b[39m_output\u001b[39m.\u001b[39mextend(job\u001b[39m.\u001b[39;49mget(timeout\u001b[39m=\u001b[39;49m\u001b[39mself\u001b[39;49m\u001b[39m.\u001b[39;49mtimeout))\n\u001b[1;32m    <a href='file:///Users/robertsarno/Documents/Spring_2022/Learning/General_Assembly/GA_lib/lib/python3.9/site-packages/joblib/parallel.py?line=935'>936</a>\u001b[0m     \u001b[39melse\u001b[39;00m:\n\u001b[1;32m    <a href='file:///Users/robertsarno/Documents/Spring_2022/Learning/General_Assembly/GA_lib/lib/python3.9/site-packages/joblib/parallel.py?line=936'>937</a>\u001b[0m         \u001b[39mself\u001b[39m\u001b[39m.\u001b[39m_output\u001b[39m.\u001b[39mextend(job\u001b[39m.\u001b[39mget())\n",
      "File \u001b[0;32m~/Documents/Spring_2022/Learning/General_Assembly/GA_lib/lib/python3.9/site-packages/joblib/_parallel_backends.py:542\u001b[0m, in \u001b[0;36mLokyBackend.wrap_future_result\u001b[0;34m(future, timeout)\u001b[0m\n\u001b[1;32m    <a href='file:///Users/robertsarno/Documents/Spring_2022/Learning/General_Assembly/GA_lib/lib/python3.9/site-packages/joblib/_parallel_backends.py?line=538'>539</a>\u001b[0m \u001b[39m\"\"\"Wrapper for Future.result to implement the same behaviour as\u001b[39;00m\n\u001b[1;32m    <a href='file:///Users/robertsarno/Documents/Spring_2022/Learning/General_Assembly/GA_lib/lib/python3.9/site-packages/joblib/_parallel_backends.py?line=539'>540</a>\u001b[0m \u001b[39mAsyncResults.get from multiprocessing.\"\"\"\u001b[39;00m\n\u001b[1;32m    <a href='file:///Users/robertsarno/Documents/Spring_2022/Learning/General_Assembly/GA_lib/lib/python3.9/site-packages/joblib/_parallel_backends.py?line=540'>541</a>\u001b[0m \u001b[39mtry\u001b[39;00m:\n\u001b[0;32m--> <a href='file:///Users/robertsarno/Documents/Spring_2022/Learning/General_Assembly/GA_lib/lib/python3.9/site-packages/joblib/_parallel_backends.py?line=541'>542</a>\u001b[0m     \u001b[39mreturn\u001b[39;00m future\u001b[39m.\u001b[39;49mresult(timeout\u001b[39m=\u001b[39;49mtimeout)\n\u001b[1;32m    <a href='file:///Users/robertsarno/Documents/Spring_2022/Learning/General_Assembly/GA_lib/lib/python3.9/site-packages/joblib/_parallel_backends.py?line=542'>543</a>\u001b[0m \u001b[39mexcept\u001b[39;00m CfTimeoutError \u001b[39mas\u001b[39;00m e:\n\u001b[1;32m    <a href='file:///Users/robertsarno/Documents/Spring_2022/Learning/General_Assembly/GA_lib/lib/python3.9/site-packages/joblib/_parallel_backends.py?line=543'>544</a>\u001b[0m     \u001b[39mraise\u001b[39;00m \u001b[39mTimeoutError\u001b[39;00m \u001b[39mfrom\u001b[39;00m \u001b[39me\u001b[39;00m\n",
      "File \u001b[0;32m~/opt/anaconda3/lib/python3.9/concurrent/futures/_base.py:440\u001b[0m, in \u001b[0;36mFuture.result\u001b[0;34m(self, timeout)\u001b[0m\n\u001b[1;32m    <a href='file:///Users/robertsarno/opt/anaconda3/lib/python3.9/concurrent/futures/_base.py?line=436'>437</a>\u001b[0m \u001b[39melif\u001b[39;00m \u001b[39mself\u001b[39m\u001b[39m.\u001b[39m_state \u001b[39m==\u001b[39m FINISHED:\n\u001b[1;32m    <a href='file:///Users/robertsarno/opt/anaconda3/lib/python3.9/concurrent/futures/_base.py?line=437'>438</a>\u001b[0m     \u001b[39mreturn\u001b[39;00m \u001b[39mself\u001b[39m\u001b[39m.\u001b[39m__get_result()\n\u001b[0;32m--> <a href='file:///Users/robertsarno/opt/anaconda3/lib/python3.9/concurrent/futures/_base.py?line=439'>440</a>\u001b[0m \u001b[39mself\u001b[39;49m\u001b[39m.\u001b[39;49m_condition\u001b[39m.\u001b[39;49mwait(timeout)\n\u001b[1;32m    <a href='file:///Users/robertsarno/opt/anaconda3/lib/python3.9/concurrent/futures/_base.py?line=441'>442</a>\u001b[0m \u001b[39mif\u001b[39;00m \u001b[39mself\u001b[39m\u001b[39m.\u001b[39m_state \u001b[39min\u001b[39;00m [CANCELLED, CANCELLED_AND_NOTIFIED]:\n\u001b[1;32m    <a href='file:///Users/robertsarno/opt/anaconda3/lib/python3.9/concurrent/futures/_base.py?line=442'>443</a>\u001b[0m     \u001b[39mraise\u001b[39;00m CancelledError()\n",
      "File \u001b[0;32m~/opt/anaconda3/lib/python3.9/threading.py:312\u001b[0m, in \u001b[0;36mCondition.wait\u001b[0;34m(self, timeout)\u001b[0m\n\u001b[1;32m    <a href='file:///Users/robertsarno/opt/anaconda3/lib/python3.9/threading.py?line=309'>310</a>\u001b[0m \u001b[39mtry\u001b[39;00m:    \u001b[39m# restore state no matter what (e.g., KeyboardInterrupt)\u001b[39;00m\n\u001b[1;32m    <a href='file:///Users/robertsarno/opt/anaconda3/lib/python3.9/threading.py?line=310'>311</a>\u001b[0m     \u001b[39mif\u001b[39;00m timeout \u001b[39mis\u001b[39;00m \u001b[39mNone\u001b[39;00m:\n\u001b[0;32m--> <a href='file:///Users/robertsarno/opt/anaconda3/lib/python3.9/threading.py?line=311'>312</a>\u001b[0m         waiter\u001b[39m.\u001b[39;49macquire()\n\u001b[1;32m    <a href='file:///Users/robertsarno/opt/anaconda3/lib/python3.9/threading.py?line=312'>313</a>\u001b[0m         gotit \u001b[39m=\u001b[39m \u001b[39mTrue\u001b[39;00m\n\u001b[1;32m    <a href='file:///Users/robertsarno/opt/anaconda3/lib/python3.9/threading.py?line=313'>314</a>\u001b[0m     \u001b[39melse\u001b[39;00m:\n",
      "\u001b[0;31mKeyboardInterrupt\u001b[0m: "
     ]
    }
   ],
   "source": [
    "X = master_df.drop(columns=['subreddit', 'selftext', 'title', 'corrected_title'])\n",
    "y = master_df['subreddit']\n",
    "\n",
    "X_train, X_test, y_train, y_test = train_test_split(X, y, random_state=42, stratify=y)\n",
    "\n",
    "vc1 = VotingClassifier(\n",
    "    [\n",
    "        ('adb', AdaBoostClassifier()),\n",
    "        ('boosting', xgb.XGBClassifier()),\n",
    "        ('bagging', BaggingClassifier()),\n",
    "        ('rfc', RandomForestClassifier()),\n",
    "        ('etc', ExtraTreesClassifier()),\n",
    "    ],\n",
    "    weights = [.1, .1, .1, .30, .30],\n",
    "    n_jobs=-1\n",
    ")\n",
    "ct1 = ColumnTransformer([\n",
    "    ('ss', StandardScaler(), num_col), # polynomial numeric columns\n",
    "], remainder = 'passthrough')\n",
    "pipe = Pipeline([\n",
    "    ('ct', ct1),\n",
    "    ('vc1', vc1)\n",
    "])\n",
    "pipe.fit(X_train, y_train)\n",
    "pipe.score(X_train, y_train), pipe.score(X_test, y_test)\n"
   ]
  },
  {
   "cell_type": "code",
   "execution_count": 26,
   "metadata": {},
   "outputs": [
    {
     "data": {
      "text/plain": [
       "(1.0, 0.8706351066322944)"
      ]
     },
     "execution_count": 26,
     "metadata": {},
     "output_type": "execute_result"
    }
   ],
   "source": [
    "X = master_df.drop(columns=['subreddit', 'selftext', 'title', 'corrected_title'])\n",
    "y = master_df['subreddit']\n",
    "\n",
    "X_train, X_test, y_train, y_test = train_test_split(X, y, random_state=42, stratify=y)\n",
    "\n",
    "vc1 = VotingClassifier(\n",
    "    [\n",
    "        ('adb', AdaBoostClassifier()),\n",
    "        ('boosting', xgb.XGBClassifier()),\n",
    "        ('bagging', BaggingClassifier()),\n",
    "        ('rfc', RandomForestClassifier()),\n",
    "        ('etc', ExtraTreesClassifier()),\n",
    "    ],\n",
    "    weights = [.1, .1, .1, .30, .30],\n",
    "    n_jobs=-1\n",
    ")\n",
    "ct1 = ColumnTransformer([\n",
    "    ('ss', StandardScaler(), num_col), # polynomial numeric columns\n",
    "], remainder = 'passthrough')\n",
    "pipe = Pipeline([\n",
    "    ('ct', ct1),\n",
    "    ('vc1', vc1)\n",
    "])\n",
    "pipe.fit(X_train, y_train)\n",
    "pipe.score(X_train, y_train), pipe.score(X_test, y_test)"
   ]
  },
  {
   "cell_type": "markdown",
   "metadata": {},
   "source": [
    "## Tuning HyperParams\n",
    "\n",
    "- `Note` couldnt do hyperparam tunning because time complexity would take multiple days.  Would even happen when only including one hyperparm in gridsearch cv. Dont really understand why."
   ]
  },
  {
   "cell_type": "code",
   "execution_count": 36,
   "metadata": {},
   "outputs": [],
   "source": [
    "X = master_df.drop(columns=['subreddit', 'selftext', 'title', 'corrected_title'])\n",
    "y = master_df['subreddit']\n",
    "\n",
    "X_train, X_test, y_train, y_test = train_test_split(X, y, random_state=42, stratify=y)\n",
    "\n",
    "vc1 = VotingClassifier(\n",
    "    [\n",
    "        ('adb', AdaBoostClassifier()),\n",
    "        ('boosting', xgb.XGBClassifier(booster='gbtree')),\n",
    "        ('bagging', BaggingClassifier()),\n",
    "        ('rfc', RandomForestClassifier()),\n",
    "        ('etc', ExtraTreesClassifier()),\n",
    "    ],\n",
    "    weights = [.1, .1, .1, .30, .30],\n",
    ")\n",
    "ct1 = ColumnTransformer([\n",
    "    ('ss', StandardScaler(), num_col), # polynomial numeric columns\n",
    "], remainder = 'passthrough')\n",
    "pipe2 = Pipeline([\n",
    "    ('ct', ct1),\n",
    "    ('vc1', vc1)\n",
    "])\n",
    "# pipe.fit(X_train, y_train)\n",
    "# pipe.score(X_train, y_train), pipe.score(X_test, y_test)\n",
    "pipe2_params = {\n",
    "    'vc1__boosting__gamma': [0,1,2],\n",
    "    'vc1__boosting__lambda':[0, 1, 2],\n",
    "    'vc1__boosting__alpha': [0, 1, 2], \n",
    "    'vc1__rfc__criterion': ['gini', 'entropy'],\n",
    "    'vc1__etc__criterion': ['gini', 'entropy'],    \n",
    "}\n",
    "gs = GridSearchCV(\n",
    "    pipe2,\n",
    "    pipe2_params,\n",
    "    n_jobs=-1\n",
    ")\n",
    "gs.fit(X_train, y_train)\n",
    "gs.score(X_train, y_train), gs.score(X_test, y_test)"
   ]
  },
  {
   "cell_type": "markdown",
   "metadata": {},
   "source": [
    "## Resources\n",
    "- https://towardsdatascience.com/multi-class-text-classification-model-comparison-and-selection-5eb066197568\n",
    "- https://www.kaggle.com/getting-started/42409\n",
    "- https://scikit-learn.org/stable/modules/generated/sklearn.linear_model.SGDClassifier.html"
   ]
  }
 ],
 "metadata": {
  "interpreter": {
   "hash": "a11ccf3dc2c92741bddd350bb7523450eb60ea43bb3bcb71822b2ca4a17fa62f"
  },
  "kernelspec": {
   "display_name": "Python 3.9.7 ('GA_lib': venv)",
   "language": "python",
   "name": "python3"
  },
  "language_info": {
   "codemirror_mode": {
    "name": "ipython",
    "version": 3
   },
   "file_extension": ".py",
   "mimetype": "text/x-python",
   "name": "python",
   "nbconvert_exporter": "python",
   "pygments_lexer": "ipython3",
   "version": "3.9.7"
  },
  "orig_nbformat": 4
 },
 "nbformat": 4,
 "nbformat_minor": 2
}
