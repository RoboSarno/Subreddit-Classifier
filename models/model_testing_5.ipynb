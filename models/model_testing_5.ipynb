{
 "cells": [
  {
   "cell_type": "code",
   "execution_count": 2,
   "metadata": {},
   "outputs": [],
   "source": [
    "\n",
    "import nltk\n",
    "from nltk.corpus import stopwords\n",
    "import numpy as np\n",
    "import pandas as pd\n",
    "from sklearn.compose import ColumnTransformer, make_column_selector\n",
    "from sklearn.ensemble import RandomForestClassifier, VotingClassifier, ExtraTreesClassifier, VotingClassifier, BaggingClassifier, AdaBoostClassifier\n",
    "from sklearn.feature_extraction.text import CountVectorizer, TfidfVectorizer\n",
    "from sklearn.feature_extraction import text \n",
    "from sklearn.linear_model import LogisticRegression, SGDClassifier\n",
    "from sklearn.model_selection import train_test_split, GridSearchCV\n",
    "from sklearn.metrics import mean_squared_error, ConfusionMatrixDisplay\n",
    "from sklearn.pipeline import Pipeline\n",
    "from sklearn.preprocessing import StandardScaler\n",
    "import xgboost as xgb\n",
    "import matplotlib.pyplot as plt\n",
    "from spellchecker import SpellChecker\n",
    "from sklearn.linear_model import LogisticRegression\n",
    "from sklearn.naive_bayes import GaussianNB\n",
    "from sklearn.ensemble import RandomForestClassifier, VotingClassifier"
   ]
  },
  {
   "cell_type": "code",
   "execution_count": 3,
   "metadata": {},
   "outputs": [],
   "source": [
    "df = pd.read_csv('../data/Subreddits_Data.csv', usecols = ['subreddit','selftext', 'title', 'corrected_title', 'char_count', 'word_count', 'neg', 'neu', 'pos', 'compound'])\n",
    "df[['selftext', 'title', 'corrected_title']] = df[['selftext', 'title', 'corrected_title']].fillna('')\n",
    "cat_col = ['corrected_title']\n",
    "num_col = ['word_count', 'char_count', 'compound', 'pos', 'neu', 'neg']"
   ]
  },
  {
   "cell_type": "code",
   "execution_count": 4,
   "metadata": {},
   "outputs": [
    {
     "data": {
      "text/html": [
       "<div>\n",
       "<style scoped>\n",
       "    .dataframe tbody tr th:only-of-type {\n",
       "        vertical-align: middle;\n",
       "    }\n",
       "\n",
       "    .dataframe tbody tr th {\n",
       "        vertical-align: top;\n",
       "    }\n",
       "\n",
       "    .dataframe thead th {\n",
       "        text-align: right;\n",
       "    }\n",
       "</style>\n",
       "<table border=\"1\" class=\"dataframe\">\n",
       "  <thead>\n",
       "    <tr style=\"text-align: right;\">\n",
       "      <th></th>\n",
       "      <th>subreddit</th>\n",
       "      <th>selftext</th>\n",
       "      <th>title</th>\n",
       "      <th>corrected_title</th>\n",
       "      <th>char_count</th>\n",
       "      <th>word_count</th>\n",
       "      <th>neg</th>\n",
       "      <th>neu</th>\n",
       "      <th>pos</th>\n",
       "      <th>compound</th>\n",
       "    </tr>\n",
       "  </thead>\n",
       "  <tbody>\n",
       "    <tr>\n",
       "      <th>0</th>\n",
       "      <td>1</td>\n",
       "      <td>I’ve foreign friends who keep misusing each wo...</td>\n",
       "      <td>what’s the difference between an illness and ...</td>\n",
       "      <td>what’s the difference between an illness and ...</td>\n",
       "      <td>55</td>\n",
       "      <td>9</td>\n",
       "      <td>0.278</td>\n",
       "      <td>0.722</td>\n",
       "      <td>0.0</td>\n",
       "      <td>-0.4019</td>\n",
       "    </tr>\n",
       "    <tr>\n",
       "      <th>1</th>\n",
       "      <td>1</td>\n",
       "      <td>Given all of time why has no one conquered tim...</td>\n",
       "      <td>if space and time are infinite, why has no on...</td>\n",
       "      <td>if space and time are infinite, why has no on...</td>\n",
       "      <td>59</td>\n",
       "      <td>13</td>\n",
       "      <td>0.278</td>\n",
       "      <td>0.722</td>\n",
       "      <td>0.0</td>\n",
       "      <td>-0.4019</td>\n",
       "    </tr>\n",
       "    <tr>\n",
       "      <th>2</th>\n",
       "      <td>1</td>\n",
       "      <td>[removed]</td>\n",
       "      <td>could time travel be possible?</td>\n",
       "      <td>could time travel be possible?</td>\n",
       "      <td>30</td>\n",
       "      <td>5</td>\n",
       "      <td>0.278</td>\n",
       "      <td>0.722</td>\n",
       "      <td>0.0</td>\n",
       "      <td>-0.4019</td>\n",
       "    </tr>\n",
       "    <tr>\n",
       "      <th>3</th>\n",
       "      <td>1</td>\n",
       "      <td></td>\n",
       "      <td>why do humans need such a wide range of nutri...</td>\n",
       "      <td>why do humans need such a wide range of nutri...</td>\n",
       "      <td>137</td>\n",
       "      <td>22</td>\n",
       "      <td>0.278</td>\n",
       "      <td>0.722</td>\n",
       "      <td>0.0</td>\n",
       "      <td>-0.4019</td>\n",
       "    </tr>\n",
       "    <tr>\n",
       "      <th>4</th>\n",
       "      <td>1</td>\n",
       "      <td>[removed]</td>\n",
       "      <td>how does the moon’s orbit and rotation work?</td>\n",
       "      <td>how does the moon’s orbit and rotation work?</td>\n",
       "      <td>44</td>\n",
       "      <td>8</td>\n",
       "      <td>0.278</td>\n",
       "      <td>0.722</td>\n",
       "      <td>0.0</td>\n",
       "      <td>-0.4019</td>\n",
       "    </tr>\n",
       "  </tbody>\n",
       "</table>\n",
       "</div>"
      ],
      "text/plain": [
       "   subreddit                                           selftext  \\\n",
       "0          1  I’ve foreign friends who keep misusing each wo...   \n",
       "1          1  Given all of time why has no one conquered tim...   \n",
       "2          1                                          [removed]   \n",
       "3          1                                                      \n",
       "4          1                                          [removed]   \n",
       "\n",
       "                                               title  \\\n",
       "0   what’s the difference between an illness and ...   \n",
       "1   if space and time are infinite, why has no on...   \n",
       "2                     could time travel be possible?   \n",
       "3   why do humans need such a wide range of nutri...   \n",
       "4       how does the moon’s orbit and rotation work?   \n",
       "\n",
       "                                     corrected_title  char_count  word_count  \\\n",
       "0   what’s the difference between an illness and ...          55           9   \n",
       "1   if space and time are infinite, why has no on...          59          13   \n",
       "2                     could time travel be possible?          30           5   \n",
       "3   why do humans need such a wide range of nutri...         137          22   \n",
       "4       how does the moon’s orbit and rotation work?          44           8   \n",
       "\n",
       "     neg    neu  pos  compound  \n",
       "0  0.278  0.722  0.0   -0.4019  \n",
       "1  0.278  0.722  0.0   -0.4019  \n",
       "2  0.278  0.722  0.0   -0.4019  \n",
       "3  0.278  0.722  0.0   -0.4019  \n",
       "4  0.278  0.722  0.0   -0.4019  "
      ]
     },
     "execution_count": 4,
     "metadata": {},
     "output_type": "execute_result"
    }
   ],
   "source": [
    "df.head()"
   ]
  },
  {
   "cell_type": "code",
   "execution_count": 5,
   "metadata": {},
   "outputs": [],
   "source": [
    "spell = SpellChecker()\n",
    "df['corrected_title'] = df['corrected_title'].apply(lambda x: ' '.join(spell.split_words(x)))"
   ]
  },
  {
   "cell_type": "code",
   "execution_count": 6,
   "metadata": {},
   "outputs": [],
   "source": [
    "# count Vectorize title data and remove stop words\n",
    "stop_words  = stopwords.words('english')\n",
    "count_vec_pipe = Pipeline(\n",
    "                            [\n",
    "                                ('vect', CountVectorizer(stop_words=stop_words, ngram_range=(1,1))),\n",
    "                            ]\n",
    "                        )\n",
    "count_vec_pipe.fit(df['corrected_title'])\n",
    "df_count_vec = pd.DataFrame(count_vec_pipe.transform(df['corrected_title']).A, columns=count_vec_pipe.get_feature_names_out())\n",
    "master_df = pd.concat([df, df_count_vec], axis=1)\n",
    "master_df = master_df.loc[:,~master_df.columns.duplicated()]\n"
   ]
  },
  {
   "cell_type": "code",
   "execution_count": 7,
   "metadata": {},
   "outputs": [],
   "source": [
    "zero = master_df[master_df['subreddit']==0]\n",
    "zero = zero.drop(columns=['word_count', 'char_count', 'neu', 'neg', 'pos', 'compound'])"
   ]
  },
  {
   "cell_type": "code",
   "execution_count": 8,
   "metadata": {},
   "outputs": [],
   "source": [
    "one = master_df[master_df['subreddit']==1]\n",
    "one = one.drop(columns=['word_count', 'char_count', 'neu', 'neg', 'pos', 'compound'])"
   ]
  },
  {
   "cell_type": "code",
   "execution_count": 9,
   "metadata": {},
   "outputs": [],
   "source": [
    "# Graph common words\n",
    "common_words_one = one.sum(numeric_only=True, axis=0).sort_values().tail(25)\n",
    "common_words_zero = zero.sum(numeric_only=True, axis=0).sort_values().tail(25)"
   ]
  },
  {
   "cell_type": "code",
   "execution_count": 10,
   "metadata": {},
   "outputs": [],
   "source": [
    "additional_stop_words = set(list(common_words_one.index)).intersection(set(list(common_words_zero.index)))"
   ]
  },
  {
   "cell_type": "code",
   "execution_count": 11,
   "metadata": {},
   "outputs": [],
   "source": [
    "stop_words  = stopwords.words('english')\n",
    "count_vec_pipe = Pipeline(\n",
    "                            [\n",
    "                                ('vect', CountVectorizer(stop_words=stop_words + list(additional_stop_words), ngram_range=(1,1))),\n",
    "                            ]\n",
    "                        )\n",
    "count_vec_pipe.fit(df['corrected_title'])\n",
    "df_count_vec = pd.DataFrame(count_vec_pipe.transform(df['corrected_title']).A, columns=count_vec_pipe.get_feature_names_out())\n",
    "master_df = pd.concat([df, df_count_vec], axis=1)\n",
    "master_df = master_df.loc[:,~master_df.columns.duplicated()]"
   ]
  },
  {
   "cell_type": "code",
   "execution_count": 12,
   "metadata": {},
   "outputs": [
    {
     "ename": "KeyboardInterrupt",
     "evalue": "",
     "output_type": "error",
     "traceback": [
      "\u001b[0;31m---------------------------------------------------------------------------\u001b[0m",
      "\u001b[0;31mKeyboardInterrupt\u001b[0m                         Traceback (most recent call last)",
      "\u001b[1;32m/Users/robertsarno/Documents/Spring_2022/Learning/General_Assembly/Projects/project-3/temp.ipynb Cell 11'\u001b[0m in \u001b[0;36m<cell line: 24>\u001b[0;34m()\u001b[0m\n\u001b[1;32m     <a href='vscode-notebook-cell:/Users/robertsarno/Documents/Spring_2022/Learning/General_Assembly/Projects/project-3/temp.ipynb#ch0000010?line=16'>17</a>\u001b[0m ct1 \u001b[39m=\u001b[39m ColumnTransformer([\n\u001b[1;32m     <a href='vscode-notebook-cell:/Users/robertsarno/Documents/Spring_2022/Learning/General_Assembly/Projects/project-3/temp.ipynb#ch0000010?line=17'>18</a>\u001b[0m     (\u001b[39m'\u001b[39m\u001b[39mss\u001b[39m\u001b[39m'\u001b[39m, StandardScaler(), num_col), \u001b[39m# polynomial numeric columns\u001b[39;00m\n\u001b[1;32m     <a href='vscode-notebook-cell:/Users/robertsarno/Documents/Spring_2022/Learning/General_Assembly/Projects/project-3/temp.ipynb#ch0000010?line=18'>19</a>\u001b[0m ], remainder \u001b[39m=\u001b[39m \u001b[39m'\u001b[39m\u001b[39mpassthrough\u001b[39m\u001b[39m'\u001b[39m)\n\u001b[1;32m     <a href='vscode-notebook-cell:/Users/robertsarno/Documents/Spring_2022/Learning/General_Assembly/Projects/project-3/temp.ipynb#ch0000010?line=19'>20</a>\u001b[0m pipe \u001b[39m=\u001b[39m Pipeline([\n\u001b[1;32m     <a href='vscode-notebook-cell:/Users/robertsarno/Documents/Spring_2022/Learning/General_Assembly/Projects/project-3/temp.ipynb#ch0000010?line=20'>21</a>\u001b[0m     (\u001b[39m'\u001b[39m\u001b[39mct\u001b[39m\u001b[39m'\u001b[39m, ct1),\n\u001b[1;32m     <a href='vscode-notebook-cell:/Users/robertsarno/Documents/Spring_2022/Learning/General_Assembly/Projects/project-3/temp.ipynb#ch0000010?line=21'>22</a>\u001b[0m     (\u001b[39m'\u001b[39m\u001b[39mvc1\u001b[39m\u001b[39m'\u001b[39m, vc1)\n\u001b[1;32m     <a href='vscode-notebook-cell:/Users/robertsarno/Documents/Spring_2022/Learning/General_Assembly/Projects/project-3/temp.ipynb#ch0000010?line=22'>23</a>\u001b[0m ])\n\u001b[0;32m---> <a href='vscode-notebook-cell:/Users/robertsarno/Documents/Spring_2022/Learning/General_Assembly/Projects/project-3/temp.ipynb#ch0000010?line=23'>24</a>\u001b[0m pipe\u001b[39m.\u001b[39;49mfit(X_train, y_train)\n",
      "File \u001b[0;32m~/Documents/Spring_2022/Learning/General_Assembly/GA_lib/lib/python3.9/site-packages/sklearn/pipeline.py:394\u001b[0m, in \u001b[0;36mPipeline.fit\u001b[0;34m(self, X, y, **fit_params)\u001b[0m\n\u001b[1;32m    <a href='file:///Users/robertsarno/Documents/Spring_2022/Learning/General_Assembly/GA_lib/lib/python3.9/site-packages/sklearn/pipeline.py?line=391'>392</a>\u001b[0m     \u001b[39mif\u001b[39;00m \u001b[39mself\u001b[39m\u001b[39m.\u001b[39m_final_estimator \u001b[39m!=\u001b[39m \u001b[39m\"\u001b[39m\u001b[39mpassthrough\u001b[39m\u001b[39m\"\u001b[39m:\n\u001b[1;32m    <a href='file:///Users/robertsarno/Documents/Spring_2022/Learning/General_Assembly/GA_lib/lib/python3.9/site-packages/sklearn/pipeline.py?line=392'>393</a>\u001b[0m         fit_params_last_step \u001b[39m=\u001b[39m fit_params_steps[\u001b[39mself\u001b[39m\u001b[39m.\u001b[39msteps[\u001b[39m-\u001b[39m\u001b[39m1\u001b[39m][\u001b[39m0\u001b[39m]]\n\u001b[0;32m--> <a href='file:///Users/robertsarno/Documents/Spring_2022/Learning/General_Assembly/GA_lib/lib/python3.9/site-packages/sklearn/pipeline.py?line=393'>394</a>\u001b[0m         \u001b[39mself\u001b[39;49m\u001b[39m.\u001b[39;49m_final_estimator\u001b[39m.\u001b[39;49mfit(Xt, y, \u001b[39m*\u001b[39;49m\u001b[39m*\u001b[39;49mfit_params_last_step)\n\u001b[1;32m    <a href='file:///Users/robertsarno/Documents/Spring_2022/Learning/General_Assembly/GA_lib/lib/python3.9/site-packages/sklearn/pipeline.py?line=395'>396</a>\u001b[0m \u001b[39mreturn\u001b[39;00m \u001b[39mself\u001b[39m\n",
      "File \u001b[0;32m~/Documents/Spring_2022/Learning/General_Assembly/GA_lib/lib/python3.9/site-packages/sklearn/ensemble/_voting.py:324\u001b[0m, in \u001b[0;36mVotingClassifier.fit\u001b[0;34m(self, X, y, sample_weight)\u001b[0m\n\u001b[1;32m    <a href='file:///Users/robertsarno/Documents/Spring_2022/Learning/General_Assembly/GA_lib/lib/python3.9/site-packages/sklearn/ensemble/_voting.py?line=320'>321</a>\u001b[0m \u001b[39mself\u001b[39m\u001b[39m.\u001b[39mclasses_ \u001b[39m=\u001b[39m \u001b[39mself\u001b[39m\u001b[39m.\u001b[39mle_\u001b[39m.\u001b[39mclasses_\n\u001b[1;32m    <a href='file:///Users/robertsarno/Documents/Spring_2022/Learning/General_Assembly/GA_lib/lib/python3.9/site-packages/sklearn/ensemble/_voting.py?line=321'>322</a>\u001b[0m transformed_y \u001b[39m=\u001b[39m \u001b[39mself\u001b[39m\u001b[39m.\u001b[39mle_\u001b[39m.\u001b[39mtransform(y)\n\u001b[0;32m--> <a href='file:///Users/robertsarno/Documents/Spring_2022/Learning/General_Assembly/GA_lib/lib/python3.9/site-packages/sklearn/ensemble/_voting.py?line=323'>324</a>\u001b[0m \u001b[39mreturn\u001b[39;00m \u001b[39msuper\u001b[39;49m()\u001b[39m.\u001b[39;49mfit(X, transformed_y, sample_weight)\n",
      "File \u001b[0;32m~/Documents/Spring_2022/Learning/General_Assembly/GA_lib/lib/python3.9/site-packages/sklearn/ensemble/_voting.py:74\u001b[0m, in \u001b[0;36m_BaseVoting.fit\u001b[0;34m(self, X, y, sample_weight)\u001b[0m\n\u001b[1;32m     <a href='file:///Users/robertsarno/Documents/Spring_2022/Learning/General_Assembly/GA_lib/lib/python3.9/site-packages/sklearn/ensemble/_voting.py?line=66'>67</a>\u001b[0m \u001b[39mif\u001b[39;00m \u001b[39mself\u001b[39m\u001b[39m.\u001b[39mweights \u001b[39mis\u001b[39;00m \u001b[39mnot\u001b[39;00m \u001b[39mNone\u001b[39;00m \u001b[39mand\u001b[39;00m \u001b[39mlen\u001b[39m(\u001b[39mself\u001b[39m\u001b[39m.\u001b[39mweights) \u001b[39m!=\u001b[39m \u001b[39mlen\u001b[39m(\u001b[39mself\u001b[39m\u001b[39m.\u001b[39mestimators):\n\u001b[1;32m     <a href='file:///Users/robertsarno/Documents/Spring_2022/Learning/General_Assembly/GA_lib/lib/python3.9/site-packages/sklearn/ensemble/_voting.py?line=67'>68</a>\u001b[0m     \u001b[39mraise\u001b[39;00m \u001b[39mValueError\u001b[39;00m(\n\u001b[1;32m     <a href='file:///Users/robertsarno/Documents/Spring_2022/Learning/General_Assembly/GA_lib/lib/python3.9/site-packages/sklearn/ensemble/_voting.py?line=68'>69</a>\u001b[0m         \u001b[39m\"\u001b[39m\u001b[39mNumber of `estimators` and weights must be equal\u001b[39m\u001b[39m\"\u001b[39m\n\u001b[1;32m     <a href='file:///Users/robertsarno/Documents/Spring_2022/Learning/General_Assembly/GA_lib/lib/python3.9/site-packages/sklearn/ensemble/_voting.py?line=69'>70</a>\u001b[0m         \u001b[39m\"\u001b[39m\u001b[39m; got \u001b[39m\u001b[39m%d\u001b[39;00m\u001b[39m weights, \u001b[39m\u001b[39m%d\u001b[39;00m\u001b[39m estimators\u001b[39m\u001b[39m\"\u001b[39m\n\u001b[1;32m     <a href='file:///Users/robertsarno/Documents/Spring_2022/Learning/General_Assembly/GA_lib/lib/python3.9/site-packages/sklearn/ensemble/_voting.py?line=70'>71</a>\u001b[0m         \u001b[39m%\u001b[39m (\u001b[39mlen\u001b[39m(\u001b[39mself\u001b[39m\u001b[39m.\u001b[39mweights), \u001b[39mlen\u001b[39m(\u001b[39mself\u001b[39m\u001b[39m.\u001b[39mestimators))\n\u001b[1;32m     <a href='file:///Users/robertsarno/Documents/Spring_2022/Learning/General_Assembly/GA_lib/lib/python3.9/site-packages/sklearn/ensemble/_voting.py?line=71'>72</a>\u001b[0m     )\n\u001b[0;32m---> <a href='file:///Users/robertsarno/Documents/Spring_2022/Learning/General_Assembly/GA_lib/lib/python3.9/site-packages/sklearn/ensemble/_voting.py?line=73'>74</a>\u001b[0m \u001b[39mself\u001b[39m\u001b[39m.\u001b[39mestimators_ \u001b[39m=\u001b[39m Parallel(n_jobs\u001b[39m=\u001b[39;49m\u001b[39mself\u001b[39;49m\u001b[39m.\u001b[39;49mn_jobs)(\n\u001b[1;32m     <a href='file:///Users/robertsarno/Documents/Spring_2022/Learning/General_Assembly/GA_lib/lib/python3.9/site-packages/sklearn/ensemble/_voting.py?line=74'>75</a>\u001b[0m     delayed(_fit_single_estimator)(\n\u001b[1;32m     <a href='file:///Users/robertsarno/Documents/Spring_2022/Learning/General_Assembly/GA_lib/lib/python3.9/site-packages/sklearn/ensemble/_voting.py?line=75'>76</a>\u001b[0m         clone(clf),\n\u001b[1;32m     <a href='file:///Users/robertsarno/Documents/Spring_2022/Learning/General_Assembly/GA_lib/lib/python3.9/site-packages/sklearn/ensemble/_voting.py?line=76'>77</a>\u001b[0m         X,\n\u001b[1;32m     <a href='file:///Users/robertsarno/Documents/Spring_2022/Learning/General_Assembly/GA_lib/lib/python3.9/site-packages/sklearn/ensemble/_voting.py?line=77'>78</a>\u001b[0m         y,\n\u001b[1;32m     <a href='file:///Users/robertsarno/Documents/Spring_2022/Learning/General_Assembly/GA_lib/lib/python3.9/site-packages/sklearn/ensemble/_voting.py?line=78'>79</a>\u001b[0m         sample_weight\u001b[39m=\u001b[39;49msample_weight,\n\u001b[1;32m     <a href='file:///Users/robertsarno/Documents/Spring_2022/Learning/General_Assembly/GA_lib/lib/python3.9/site-packages/sklearn/ensemble/_voting.py?line=79'>80</a>\u001b[0m         message_clsname\u001b[39m=\u001b[39;49m\u001b[39m\"\u001b[39;49m\u001b[39mVoting\u001b[39;49m\u001b[39m\"\u001b[39;49m,\n\u001b[1;32m     <a href='file:///Users/robertsarno/Documents/Spring_2022/Learning/General_Assembly/GA_lib/lib/python3.9/site-packages/sklearn/ensemble/_voting.py?line=80'>81</a>\u001b[0m         message\u001b[39m=\u001b[39;49m\u001b[39mself\u001b[39;49m\u001b[39m.\u001b[39;49m_log_message(names[idx], idx \u001b[39m+\u001b[39;49m \u001b[39m1\u001b[39;49m, \u001b[39mlen\u001b[39;49m(clfs)),\n\u001b[1;32m     <a href='file:///Users/robertsarno/Documents/Spring_2022/Learning/General_Assembly/GA_lib/lib/python3.9/site-packages/sklearn/ensemble/_voting.py?line=81'>82</a>\u001b[0m     )\n\u001b[1;32m     <a href='file:///Users/robertsarno/Documents/Spring_2022/Learning/General_Assembly/GA_lib/lib/python3.9/site-packages/sklearn/ensemble/_voting.py?line=82'>83</a>\u001b[0m     \u001b[39mfor\u001b[39;49;00m idx, clf \u001b[39min\u001b[39;49;00m \u001b[39menumerate\u001b[39;49m(clfs)\n\u001b[1;32m     <a href='file:///Users/robertsarno/Documents/Spring_2022/Learning/General_Assembly/GA_lib/lib/python3.9/site-packages/sklearn/ensemble/_voting.py?line=83'>84</a>\u001b[0m     \u001b[39mif\u001b[39;49;00m clf \u001b[39m!=\u001b[39;49m \u001b[39m\"\u001b[39;49m\u001b[39mdrop\u001b[39;49m\u001b[39m\"\u001b[39;49m\n\u001b[1;32m     <a href='file:///Users/robertsarno/Documents/Spring_2022/Learning/General_Assembly/GA_lib/lib/python3.9/site-packages/sklearn/ensemble/_voting.py?line=84'>85</a>\u001b[0m )\n\u001b[1;32m     <a href='file:///Users/robertsarno/Documents/Spring_2022/Learning/General_Assembly/GA_lib/lib/python3.9/site-packages/sklearn/ensemble/_voting.py?line=86'>87</a>\u001b[0m \u001b[39mself\u001b[39m\u001b[39m.\u001b[39mnamed_estimators_ \u001b[39m=\u001b[39m Bunch()\n\u001b[1;32m     <a href='file:///Users/robertsarno/Documents/Spring_2022/Learning/General_Assembly/GA_lib/lib/python3.9/site-packages/sklearn/ensemble/_voting.py?line=88'>89</a>\u001b[0m \u001b[39m# Uses 'drop' as placeholder for dropped estimators\u001b[39;00m\n",
      "File \u001b[0;32m~/Documents/Spring_2022/Learning/General_Assembly/GA_lib/lib/python3.9/site-packages/joblib/parallel.py:1056\u001b[0m, in \u001b[0;36mParallel.__call__\u001b[0;34m(self, iterable)\u001b[0m\n\u001b[1;32m   <a href='file:///Users/robertsarno/Documents/Spring_2022/Learning/General_Assembly/GA_lib/lib/python3.9/site-packages/joblib/parallel.py?line=1052'>1053</a>\u001b[0m     \u001b[39mself\u001b[39m\u001b[39m.\u001b[39m_iterating \u001b[39m=\u001b[39m \u001b[39mFalse\u001b[39;00m\n\u001b[1;32m   <a href='file:///Users/robertsarno/Documents/Spring_2022/Learning/General_Assembly/GA_lib/lib/python3.9/site-packages/joblib/parallel.py?line=1054'>1055</a>\u001b[0m \u001b[39mwith\u001b[39;00m \u001b[39mself\u001b[39m\u001b[39m.\u001b[39m_backend\u001b[39m.\u001b[39mretrieval_context():\n\u001b[0;32m-> <a href='file:///Users/robertsarno/Documents/Spring_2022/Learning/General_Assembly/GA_lib/lib/python3.9/site-packages/joblib/parallel.py?line=1055'>1056</a>\u001b[0m     \u001b[39mself\u001b[39;49m\u001b[39m.\u001b[39;49mretrieve()\n\u001b[1;32m   <a href='file:///Users/robertsarno/Documents/Spring_2022/Learning/General_Assembly/GA_lib/lib/python3.9/site-packages/joblib/parallel.py?line=1056'>1057</a>\u001b[0m \u001b[39m# Make sure that we get a last message telling us we are done\u001b[39;00m\n\u001b[1;32m   <a href='file:///Users/robertsarno/Documents/Spring_2022/Learning/General_Assembly/GA_lib/lib/python3.9/site-packages/joblib/parallel.py?line=1057'>1058</a>\u001b[0m elapsed_time \u001b[39m=\u001b[39m time\u001b[39m.\u001b[39mtime() \u001b[39m-\u001b[39m \u001b[39mself\u001b[39m\u001b[39m.\u001b[39m_start_time\n",
      "File \u001b[0;32m~/Documents/Spring_2022/Learning/General_Assembly/GA_lib/lib/python3.9/site-packages/joblib/parallel.py:935\u001b[0m, in \u001b[0;36mParallel.retrieve\u001b[0;34m(self)\u001b[0m\n\u001b[1;32m    <a href='file:///Users/robertsarno/Documents/Spring_2022/Learning/General_Assembly/GA_lib/lib/python3.9/site-packages/joblib/parallel.py?line=932'>933</a>\u001b[0m \u001b[39mtry\u001b[39;00m:\n\u001b[1;32m    <a href='file:///Users/robertsarno/Documents/Spring_2022/Learning/General_Assembly/GA_lib/lib/python3.9/site-packages/joblib/parallel.py?line=933'>934</a>\u001b[0m     \u001b[39mif\u001b[39;00m \u001b[39mgetattr\u001b[39m(\u001b[39mself\u001b[39m\u001b[39m.\u001b[39m_backend, \u001b[39m'\u001b[39m\u001b[39msupports_timeout\u001b[39m\u001b[39m'\u001b[39m, \u001b[39mFalse\u001b[39;00m):\n\u001b[0;32m--> <a href='file:///Users/robertsarno/Documents/Spring_2022/Learning/General_Assembly/GA_lib/lib/python3.9/site-packages/joblib/parallel.py?line=934'>935</a>\u001b[0m         \u001b[39mself\u001b[39m\u001b[39m.\u001b[39m_output\u001b[39m.\u001b[39mextend(job\u001b[39m.\u001b[39;49mget(timeout\u001b[39m=\u001b[39;49m\u001b[39mself\u001b[39;49m\u001b[39m.\u001b[39;49mtimeout))\n\u001b[1;32m    <a href='file:///Users/robertsarno/Documents/Spring_2022/Learning/General_Assembly/GA_lib/lib/python3.9/site-packages/joblib/parallel.py?line=935'>936</a>\u001b[0m     \u001b[39melse\u001b[39;00m:\n\u001b[1;32m    <a href='file:///Users/robertsarno/Documents/Spring_2022/Learning/General_Assembly/GA_lib/lib/python3.9/site-packages/joblib/parallel.py?line=936'>937</a>\u001b[0m         \u001b[39mself\u001b[39m\u001b[39m.\u001b[39m_output\u001b[39m.\u001b[39mextend(job\u001b[39m.\u001b[39mget())\n",
      "File \u001b[0;32m~/Documents/Spring_2022/Learning/General_Assembly/GA_lib/lib/python3.9/site-packages/joblib/_parallel_backends.py:542\u001b[0m, in \u001b[0;36mLokyBackend.wrap_future_result\u001b[0;34m(future, timeout)\u001b[0m\n\u001b[1;32m    <a href='file:///Users/robertsarno/Documents/Spring_2022/Learning/General_Assembly/GA_lib/lib/python3.9/site-packages/joblib/_parallel_backends.py?line=538'>539</a>\u001b[0m \u001b[39m\"\"\"Wrapper for Future.result to implement the same behaviour as\u001b[39;00m\n\u001b[1;32m    <a href='file:///Users/robertsarno/Documents/Spring_2022/Learning/General_Assembly/GA_lib/lib/python3.9/site-packages/joblib/_parallel_backends.py?line=539'>540</a>\u001b[0m \u001b[39mAsyncResults.get from multiprocessing.\"\"\"\u001b[39;00m\n\u001b[1;32m    <a href='file:///Users/robertsarno/Documents/Spring_2022/Learning/General_Assembly/GA_lib/lib/python3.9/site-packages/joblib/_parallel_backends.py?line=540'>541</a>\u001b[0m \u001b[39mtry\u001b[39;00m:\n\u001b[0;32m--> <a href='file:///Users/robertsarno/Documents/Spring_2022/Learning/General_Assembly/GA_lib/lib/python3.9/site-packages/joblib/_parallel_backends.py?line=541'>542</a>\u001b[0m     \u001b[39mreturn\u001b[39;00m future\u001b[39m.\u001b[39;49mresult(timeout\u001b[39m=\u001b[39;49mtimeout)\n\u001b[1;32m    <a href='file:///Users/robertsarno/Documents/Spring_2022/Learning/General_Assembly/GA_lib/lib/python3.9/site-packages/joblib/_parallel_backends.py?line=542'>543</a>\u001b[0m \u001b[39mexcept\u001b[39;00m CfTimeoutError \u001b[39mas\u001b[39;00m e:\n\u001b[1;32m    <a href='file:///Users/robertsarno/Documents/Spring_2022/Learning/General_Assembly/GA_lib/lib/python3.9/site-packages/joblib/_parallel_backends.py?line=543'>544</a>\u001b[0m     \u001b[39mraise\u001b[39;00m \u001b[39mTimeoutError\u001b[39;00m \u001b[39mfrom\u001b[39;00m \u001b[39me\u001b[39;00m\n",
      "File \u001b[0;32m~/opt/anaconda3/lib/python3.9/concurrent/futures/_base.py:440\u001b[0m, in \u001b[0;36mFuture.result\u001b[0;34m(self, timeout)\u001b[0m\n\u001b[1;32m    <a href='file:///Users/robertsarno/opt/anaconda3/lib/python3.9/concurrent/futures/_base.py?line=436'>437</a>\u001b[0m \u001b[39melif\u001b[39;00m \u001b[39mself\u001b[39m\u001b[39m.\u001b[39m_state \u001b[39m==\u001b[39m FINISHED:\n\u001b[1;32m    <a href='file:///Users/robertsarno/opt/anaconda3/lib/python3.9/concurrent/futures/_base.py?line=437'>438</a>\u001b[0m     \u001b[39mreturn\u001b[39;00m \u001b[39mself\u001b[39m\u001b[39m.\u001b[39m__get_result()\n\u001b[0;32m--> <a href='file:///Users/robertsarno/opt/anaconda3/lib/python3.9/concurrent/futures/_base.py?line=439'>440</a>\u001b[0m \u001b[39mself\u001b[39;49m\u001b[39m.\u001b[39;49m_condition\u001b[39m.\u001b[39;49mwait(timeout)\n\u001b[1;32m    <a href='file:///Users/robertsarno/opt/anaconda3/lib/python3.9/concurrent/futures/_base.py?line=441'>442</a>\u001b[0m \u001b[39mif\u001b[39;00m \u001b[39mself\u001b[39m\u001b[39m.\u001b[39m_state \u001b[39min\u001b[39;00m [CANCELLED, CANCELLED_AND_NOTIFIED]:\n\u001b[1;32m    <a href='file:///Users/robertsarno/opt/anaconda3/lib/python3.9/concurrent/futures/_base.py?line=442'>443</a>\u001b[0m     \u001b[39mraise\u001b[39;00m CancelledError()\n",
      "File \u001b[0;32m~/opt/anaconda3/lib/python3.9/threading.py:312\u001b[0m, in \u001b[0;36mCondition.wait\u001b[0;34m(self, timeout)\u001b[0m\n\u001b[1;32m    <a href='file:///Users/robertsarno/opt/anaconda3/lib/python3.9/threading.py?line=309'>310</a>\u001b[0m \u001b[39mtry\u001b[39;00m:    \u001b[39m# restore state no matter what (e.g., KeyboardInterrupt)\u001b[39;00m\n\u001b[1;32m    <a href='file:///Users/robertsarno/opt/anaconda3/lib/python3.9/threading.py?line=310'>311</a>\u001b[0m     \u001b[39mif\u001b[39;00m timeout \u001b[39mis\u001b[39;00m \u001b[39mNone\u001b[39;00m:\n\u001b[0;32m--> <a href='file:///Users/robertsarno/opt/anaconda3/lib/python3.9/threading.py?line=311'>312</a>\u001b[0m         waiter\u001b[39m.\u001b[39;49macquire()\n\u001b[1;32m    <a href='file:///Users/robertsarno/opt/anaconda3/lib/python3.9/threading.py?line=312'>313</a>\u001b[0m         gotit \u001b[39m=\u001b[39m \u001b[39mTrue\u001b[39;00m\n\u001b[1;32m    <a href='file:///Users/robertsarno/opt/anaconda3/lib/python3.9/threading.py?line=313'>314</a>\u001b[0m     \u001b[39melse\u001b[39;00m:\n",
      "\u001b[0;31mKeyboardInterrupt\u001b[0m: "
     ]
    }
   ],
   "source": [
    "X = master_df.drop(columns=['subreddit', 'selftext', 'title', 'corrected_title'])\n",
    "y = master_df['subreddit']\n",
    "\n",
    "X_train, X_test, y_train, y_test = train_test_split(X, y, random_state=42, stratify=y)\n",
    "\n",
    "vc1 = VotingClassifier(\n",
    "    [\n",
    "        ('adb', AdaBoostClassifier()),\n",
    "        ('boosting', xgb.XGBClassifier()),\n",
    "        ('bagging', BaggingClassifier()),\n",
    "        ('rfc', RandomForestClassifier()),\n",
    "        ('etc', ExtraTreesClassifier()),\n",
    "    ],\n",
    "    weights = [.1, .1, .1, .30, .30],\n",
    "    n_jobs=2\n",
    ")\n",
    "ct1 = ColumnTransformer([\n",
    "    ('ss', StandardScaler(), num_col), # polynomial numeric columns\n",
    "], remainder = 'passthrough')\n",
    "pipe = Pipeline([\n",
    "    ('ct', ct1),\n",
    "    ('vc1', vc1)\n",
    "])\n",
    "pipe.fit(X_train, y_train)"
   ]
  },
  {
   "cell_type": "code",
   "execution_count": null,
   "metadata": {},
   "outputs": [
    {
     "data": {
      "text/plain": [
       "(1.0, 0.8694633231778768)"
      ]
     },
     "execution_count": 41,
     "metadata": {},
     "output_type": "execute_result"
    }
   ],
   "source": [
    "pipe.score(X_train, y_train), pipe.score(X_test, y_test)"
   ]
  },
  {
   "cell_type": "code",
   "execution_count": null,
   "metadata": {},
   "outputs": [
    {
     "data": {
      "text/plain": [
       "<Figure size 1080x720 with 0 Axes>"
      ]
     },
     "metadata": {},
     "output_type": "display_data"
    },
    {
     "data": {
      "image/png": "[encoded data removed]",
      "text/plain": [
       "<Figure size 432x288 with 2 Axes>"
      ]
     },
     "metadata": {
      "needs_background": "light"
     },
     "output_type": "display_data"
    }
   ],
   "source": [
    "plt.figure(figsize=(15,10))\n",
    "ConfusionMatrixDisplay.from_estimator(pipe, X_test, y_test)\n",
    "plt.show()"
   ]
  },
  {
   "cell_type": "code",
   "execution_count": 13,
   "metadata": {},
   "outputs": [
    {
     "name": "stderr",
     "output_type": "stream",
     "text": [
      "/Users/robertsarno/Documents/Spring_2022/Learning/General_Assembly/GA_lib/lib/python3.9/site-packages/joblib/externals/loky/process_executor.py:702: UserWarning: A worker stopped while some jobs were given to the executor. This can be caused by a too short worker timeout or by a memory leak.\n",
      "  warnings.warn(\n",
      "/Users/robertsarno/Documents/Spring_2022/Learning/General_Assembly/GA_lib/lib/python3.9/site-packages/sklearn/model_selection/_validation.py:372: FitFailedWarning: \n",
      "135 fits failed out of a total of 270.\n",
      "The score on these train-test partitions for these parameters will be set to nan.\n",
      "If these failures are not expected, you can try to debug them by setting error_score='raise'.\n",
      "\n",
      "Below are more details about the failures:\n",
      "--------------------------------------------------------------------------------\n",
      "45 fits failed with the following error:\n",
      "Traceback (most recent call last):\n",
      "  File \"/Users/robertsarno/Documents/Spring_2022/Learning/General_Assembly/GA_lib/lib/python3.9/site-packages/sklearn/model_selection/_validation.py\", line 680, in _fit_and_score\n",
      "    estimator.fit(X_train, y_train, **fit_params)\n",
      "  File \"/Users/robertsarno/Documents/Spring_2022/Learning/General_Assembly/GA_lib/lib/python3.9/site-packages/sklearn/pipeline.py\", line 394, in fit\n",
      "    self._final_estimator.fit(Xt, y, **fit_params_last_step)\n",
      "  File \"/Users/robertsarno/Documents/Spring_2022/Learning/General_Assembly/GA_lib/lib/python3.9/site-packages/sklearn/ensemble/_voting.py\", line 324, in fit\n",
      "    return super().fit(X, transformed_y, sample_weight)\n",
      "  File \"/Users/robertsarno/Documents/Spring_2022/Learning/General_Assembly/GA_lib/lib/python3.9/site-packages/sklearn/ensemble/_voting.py\", line 74, in fit\n",
      "    self.estimators_ = Parallel(n_jobs=self.n_jobs)(\n",
      "  File \"/Users/robertsarno/Documents/Spring_2022/Learning/General_Assembly/GA_lib/lib/python3.9/site-packages/joblib/parallel.py\", line 1056, in __call__\n",
      "    self.retrieve()\n",
      "  File \"/Users/robertsarno/Documents/Spring_2022/Learning/General_Assembly/GA_lib/lib/python3.9/site-packages/joblib/parallel.py\", line 935, in retrieve\n",
      "    self._output.extend(job.get(timeout=self.timeout))\n",
      "  File \"/Users/robertsarno/opt/anaconda3/lib/python3.9/multiprocessing/pool.py\", line 771, in get\n",
      "    raise self._value\n",
      "  File \"/Users/robertsarno/opt/anaconda3/lib/python3.9/multiprocessing/pool.py\", line 125, in worker\n",
      "    result = (True, func(*args, **kwds))\n",
      "  File \"/Users/robertsarno/Documents/Spring_2022/Learning/General_Assembly/GA_lib/lib/python3.9/site-packages/joblib/_parallel_backends.py\", line 595, in __call__\n",
      "    return self.func(*args, **kwargs)\n",
      "  File \"/Users/robertsarno/Documents/Spring_2022/Learning/General_Assembly/GA_lib/lib/python3.9/site-packages/joblib/parallel.py\", line 262, in __call__\n",
      "    return [func(*args, **kwargs)\n",
      "  File \"/Users/robertsarno/Documents/Spring_2022/Learning/General_Assembly/GA_lib/lib/python3.9/site-packages/joblib/parallel.py\", line 262, in <listcomp>\n",
      "    return [func(*args, **kwargs)\n",
      "  File \"/Users/robertsarno/Documents/Spring_2022/Learning/General_Assembly/GA_lib/lib/python3.9/site-packages/sklearn/utils/fixes.py\", line 216, in __call__\n",
      "    return self.function(*args, **kwargs)\n",
      "  File \"/Users/robertsarno/Documents/Spring_2022/Learning/General_Assembly/GA_lib/lib/python3.9/site-packages/sklearn/ensemble/_base.py\", line 42, in _fit_single_estimator\n",
      "    estimator.fit(X, y)\n",
      "  File \"/Users/robertsarno/Documents/Spring_2022/Learning/General_Assembly/GA_lib/lib/python3.9/site-packages/sklearn/linear_model/_logistic.py\", line 1461, in fit\n",
      "    solver = _check_solver(self.solver, self.penalty, self.dual)\n",
      "  File \"/Users/robertsarno/Documents/Spring_2022/Learning/General_Assembly/GA_lib/lib/python3.9/site-packages/sklearn/linear_model/_logistic.py\", line 447, in _check_solver\n",
      "    raise ValueError(\n",
      "ValueError: Solver newton-cg supports only 'l2' or 'none' penalties, got elasticnet penalty.\n",
      "\n",
      "--------------------------------------------------------------------------------\n",
      "45 fits failed with the following error:\n",
      "Traceback (most recent call last):\n",
      "  File \"/Users/robertsarno/Documents/Spring_2022/Learning/General_Assembly/GA_lib/lib/python3.9/site-packages/sklearn/model_selection/_validation.py\", line 680, in _fit_and_score\n",
      "    estimator.fit(X_train, y_train, **fit_params)\n",
      "  File \"/Users/robertsarno/Documents/Spring_2022/Learning/General_Assembly/GA_lib/lib/python3.9/site-packages/sklearn/pipeline.py\", line 394, in fit\n",
      "    self._final_estimator.fit(Xt, y, **fit_params_last_step)\n",
      "  File \"/Users/robertsarno/Documents/Spring_2022/Learning/General_Assembly/GA_lib/lib/python3.9/site-packages/sklearn/ensemble/_voting.py\", line 324, in fit\n",
      "    return super().fit(X, transformed_y, sample_weight)\n",
      "  File \"/Users/robertsarno/Documents/Spring_2022/Learning/General_Assembly/GA_lib/lib/python3.9/site-packages/sklearn/ensemble/_voting.py\", line 74, in fit\n",
      "    self.estimators_ = Parallel(n_jobs=self.n_jobs)(\n",
      "  File \"/Users/robertsarno/Documents/Spring_2022/Learning/General_Assembly/GA_lib/lib/python3.9/site-packages/joblib/parallel.py\", line 1056, in __call__\n",
      "    self.retrieve()\n",
      "  File \"/Users/robertsarno/Documents/Spring_2022/Learning/General_Assembly/GA_lib/lib/python3.9/site-packages/joblib/parallel.py\", line 935, in retrieve\n",
      "    self._output.extend(job.get(timeout=self.timeout))\n",
      "  File \"/Users/robertsarno/opt/anaconda3/lib/python3.9/multiprocessing/pool.py\", line 771, in get\n",
      "    raise self._value\n",
      "  File \"/Users/robertsarno/opt/anaconda3/lib/python3.9/multiprocessing/pool.py\", line 125, in worker\n",
      "    result = (True, func(*args, **kwds))\n",
      "  File \"/Users/robertsarno/Documents/Spring_2022/Learning/General_Assembly/GA_lib/lib/python3.9/site-packages/joblib/_parallel_backends.py\", line 595, in __call__\n",
      "    return self.func(*args, **kwargs)\n",
      "  File \"/Users/robertsarno/Documents/Spring_2022/Learning/General_Assembly/GA_lib/lib/python3.9/site-packages/joblib/parallel.py\", line 262, in __call__\n",
      "    return [func(*args, **kwargs)\n",
      "  File \"/Users/robertsarno/Documents/Spring_2022/Learning/General_Assembly/GA_lib/lib/python3.9/site-packages/joblib/parallel.py\", line 262, in <listcomp>\n",
      "    return [func(*args, **kwargs)\n",
      "  File \"/Users/robertsarno/Documents/Spring_2022/Learning/General_Assembly/GA_lib/lib/python3.9/site-packages/sklearn/utils/fixes.py\", line 216, in __call__\n",
      "    return self.function(*args, **kwargs)\n",
      "  File \"/Users/robertsarno/Documents/Spring_2022/Learning/General_Assembly/GA_lib/lib/python3.9/site-packages/sklearn/ensemble/_base.py\", line 42, in _fit_single_estimator\n",
      "    estimator.fit(X, y)\n",
      "  File \"/Users/robertsarno/Documents/Spring_2022/Learning/General_Assembly/GA_lib/lib/python3.9/site-packages/sklearn/linear_model/_logistic.py\", line 1461, in fit\n",
      "    solver = _check_solver(self.solver, self.penalty, self.dual)\n",
      "  File \"/Users/robertsarno/Documents/Spring_2022/Learning/General_Assembly/GA_lib/lib/python3.9/site-packages/sklearn/linear_model/_logistic.py\", line 447, in _check_solver\n",
      "    raise ValueError(\n",
      "ValueError: Solver sag supports only 'l2' or 'none' penalties, got elasticnet penalty.\n",
      "\n",
      "--------------------------------------------------------------------------------\n",
      "45 fits failed with the following error:\n",
      "Traceback (most recent call last):\n",
      "  File \"/Users/robertsarno/Documents/Spring_2022/Learning/General_Assembly/GA_lib/lib/python3.9/site-packages/sklearn/model_selection/_validation.py\", line 680, in _fit_and_score\n",
      "    estimator.fit(X_train, y_train, **fit_params)\n",
      "  File \"/Users/robertsarno/Documents/Spring_2022/Learning/General_Assembly/GA_lib/lib/python3.9/site-packages/sklearn/pipeline.py\", line 394, in fit\n",
      "    self._final_estimator.fit(Xt, y, **fit_params_last_step)\n",
      "  File \"/Users/robertsarno/Documents/Spring_2022/Learning/General_Assembly/GA_lib/lib/python3.9/site-packages/sklearn/ensemble/_voting.py\", line 324, in fit\n",
      "    return super().fit(X, transformed_y, sample_weight)\n",
      "  File \"/Users/robertsarno/Documents/Spring_2022/Learning/General_Assembly/GA_lib/lib/python3.9/site-packages/sklearn/ensemble/_voting.py\", line 74, in fit\n",
      "    self.estimators_ = Parallel(n_jobs=self.n_jobs)(\n",
      "  File \"/Users/robertsarno/Documents/Spring_2022/Learning/General_Assembly/GA_lib/lib/python3.9/site-packages/joblib/parallel.py\", line 1056, in __call__\n",
      "    self.retrieve()\n",
      "  File \"/Users/robertsarno/Documents/Spring_2022/Learning/General_Assembly/GA_lib/lib/python3.9/site-packages/joblib/parallel.py\", line 935, in retrieve\n",
      "    self._output.extend(job.get(timeout=self.timeout))\n",
      "  File \"/Users/robertsarno/opt/anaconda3/lib/python3.9/multiprocessing/pool.py\", line 771, in get\n",
      "    raise self._value\n",
      "  File \"/Users/robertsarno/opt/anaconda3/lib/python3.9/multiprocessing/pool.py\", line 125, in worker\n",
      "    result = (True, func(*args, **kwds))\n",
      "  File \"/Users/robertsarno/Documents/Spring_2022/Learning/General_Assembly/GA_lib/lib/python3.9/site-packages/joblib/_parallel_backends.py\", line 595, in __call__\n",
      "    return self.func(*args, **kwargs)\n",
      "  File \"/Users/robertsarno/Documents/Spring_2022/Learning/General_Assembly/GA_lib/lib/python3.9/site-packages/joblib/parallel.py\", line 262, in __call__\n",
      "    return [func(*args, **kwargs)\n",
      "  File \"/Users/robertsarno/Documents/Spring_2022/Learning/General_Assembly/GA_lib/lib/python3.9/site-packages/joblib/parallel.py\", line 262, in <listcomp>\n",
      "    return [func(*args, **kwargs)\n",
      "  File \"/Users/robertsarno/Documents/Spring_2022/Learning/General_Assembly/GA_lib/lib/python3.9/site-packages/sklearn/utils/fixes.py\", line 216, in __call__\n",
      "    return self.function(*args, **kwargs)\n",
      "  File \"/Users/robertsarno/Documents/Spring_2022/Learning/General_Assembly/GA_lib/lib/python3.9/site-packages/sklearn/ensemble/_base.py\", line 42, in _fit_single_estimator\n",
      "    estimator.fit(X, y)\n",
      "  File \"/Users/robertsarno/Documents/Spring_2022/Learning/General_Assembly/GA_lib/lib/python3.9/site-packages/sklearn/linear_model/_logistic.py\", line 1461, in fit\n",
      "    solver = _check_solver(self.solver, self.penalty, self.dual)\n",
      "  File \"/Users/robertsarno/Documents/Spring_2022/Learning/General_Assembly/GA_lib/lib/python3.9/site-packages/sklearn/linear_model/_logistic.py\", line 447, in _check_solver\n",
      "    raise ValueError(\n",
      "ValueError: Solver lbfgs supports only 'l2' or 'none' penalties, got elasticnet penalty.\n",
      "\n",
      "  warnings.warn(some_fits_failed_message, FitFailedWarning)\n",
      "/Users/robertsarno/Documents/Spring_2022/Learning/General_Assembly/GA_lib/lib/python3.9/site-packages/sklearn/model_selection/_search.py:969: UserWarning: One or more of the test scores are non-finite: [0.76269695 0.76449413 0.76285317 0.76269695 0.76441597 0.76277504\n",
      " 0.76269695 0.76449413 0.76285317        nan        nan        nan\n",
      "        nan        nan        nan        nan        nan        nan\n",
      " 0.76269695 0.76449413 0.76285317 0.76269695 0.76441597 0.76277504\n",
      " 0.76269695 0.76449413 0.76285317        nan        nan        nan\n",
      "        nan        nan        nan        nan        nan        nan\n",
      " 0.76269695 0.76457225 0.76285317 0.76269695 0.7644941  0.76277504\n",
      " 0.76269695 0.76457225 0.76285317        nan        nan        nan\n",
      "        nan        nan        nan        nan        nan        nan]\n",
      "  warnings.warn(\n",
      "/Users/robertsarno/Documents/Spring_2022/Learning/General_Assembly/GA_lib/lib/python3.9/site-packages/joblib/externals/loky/process_executor.py:702: UserWarning: A worker stopped while some jobs were given to the executor. This can be caused by a too short worker timeout or by a memory leak.\n",
      "  warnings.warn(\n"
     ]
    },
    {
     "data": {
      "text/plain": [
       "GridSearchCV(estimator=Pipeline(steps=[('cv',\n",
       "                                        ColumnTransformer(remainder='passthrough',\n",
       "                                                          transformers=[('ss',\n",
       "                                                                         StandardScaler(),\n",
       "                                                                         ['word_count',\n",
       "                                                                          'char_count',\n",
       "                                                                          'compound',\n",
       "                                                                          'pos',\n",
       "                                                                          'neu',\n",
       "                                                                          'neg'])])),\n",
       "                                       ('vc',\n",
       "                                        VotingClassifier(estimators=[('bc',\n",
       "                                                                      BaggingClassifier(random_state=10)),\n",
       "                                                                     ('lr',\n",
       "                                                                      LogisticRegression(max_iter=10000,\n",
       "                                                                                         random_state=10)),\n",
       "                                                                     ('rf',\n",
       "                                                                      RandomForestClassifier(random_state=10)),\n",
       "                                                                     ('gnb',\n",
       "                                                                      GaussianNB())],\n",
       "                                                         n_jobs=2,\n",
       "                                                         voting='soft'))]),\n",
       "             n_jobs=2,\n",
       "             param_grid={'vc__bc__max_features': [1, 3, 5],\n",
       "                         'vc__lr__penalty': ['l2', 'elasticnet'],\n",
       "                         'vc__lr__solver': ['newton-cg', 'sag', 'lbfgs'],\n",
       "                         'vc__rf__n_estimators': [50, 100, 150]})"
      ]
     },
     "execution_count": 13,
     "metadata": {},
     "output_type": "execute_result"
    }
   ],
   "source": [
    "# master_df.dtypes\n",
    "X = master_df.drop(columns=['subreddit', 'selftext', 'title', 'corrected_title'])\n",
    "y = master_df['subreddit']\n",
    "\n",
    "X_train, X_test, y_train, y_test = train_test_split(X, y, random_state=42, stratify=y)\n",
    "clf1 = LogisticRegression(random_state=10, max_iter=10000)\n",
    "clf2 = RandomForestClassifier(random_state=10)\n",
    "clf3 = GaussianNB()\n",
    "ct = ColumnTransformer([\n",
    "    ('ss', StandardScaler(), num_col),\n",
    "], remainder = 'passthrough')\n",
    "\n",
    "# eclf1 = VotingClassifier(estimators=[\n",
    "#                                     ('lr', clf1), \n",
    "#                                     ('rf', clf2), \n",
    "#                                     ('gnb', clf3)], voting='hard', n_jobs=-1)\n",
    "# eclf1 = eclf1.fit(X_train, y_train)\n",
    "\n",
    "\n",
    "pipe = Pipeline([\n",
    "    ('cv', ct),\n",
    "    ('vc', VotingClassifier(\n",
    "                    estimators=[\n",
    "                                ('bc', BaggingClassifier(random_state=10)),\n",
    "                                ('lr', clf1), \n",
    "                                ('rf', clf2), \n",
    "                                ('gnb', clf3)\n",
    "                               ], \n",
    "                    voting='soft', n_jobs=2)),\n",
    "])\n",
    "# pipe.fit(X_train, y_train)\n",
    "pipe_params = {\n",
    "    'vc__bc__max_features':[1, 3, 5],\n",
    "    'vc__lr__penalty':['l2', 'elasticnet'],\n",
    "    'vc__lr__solver':['newton-cg', 'sag', 'lbfgs'],\n",
    "    'vc__rf__n_estimators':[50, 100, 150],\n",
    "}\n",
    "gs = GridSearchCV(\n",
    "    pipe,\n",
    "    pipe_params,\n",
    "    n_jobs=2\n",
    ")\n",
    "gs.fit(X_train, y_train)\n"
   ]
  },
  {
   "cell_type": "code",
   "execution_count": 15,
   "metadata": {},
   "outputs": [
    {
     "data": {
      "text/plain": [
       "(0.9499140490701672, 0.7785329271150692, 0.7645722511234856)"
      ]
     },
     "execution_count": 15,
     "metadata": {},
     "output_type": "execute_result"
    }
   ],
   "source": [
    "gs.score(X_train,y_train), gs.score(X_test, y_test), gs.best_score_"
   ]
  },
  {
   "cell_type": "code",
   "execution_count": null,
   "metadata": {},
   "outputs": [],
   "source": []
  }
 ],
 "metadata": {
  "interpreter": {
   "hash": "a11ccf3dc2c92741bddd350bb7523450eb60ea43bb3bcb71822b2ca4a17fa62f"
  },
  "kernelspec": {
   "display_name": "Python 3.9.7 ('GA_lib': venv)",
   "language": "python",
   "name": "python3"
  },
  "language_info": {
   "codemirror_mode": {
    "name": "ipython",
    "version": 3
   },
   "file_extension": ".py",
   "mimetype": "text/x-python",
   "name": "python",
   "nbconvert_exporter": "python",
   "pygments_lexer": "ipython3",
   "version": "3.9.7"
  },
  "orig_nbformat": 4
 },
 "nbformat": 4,
 "nbformat_minor": 2
}
